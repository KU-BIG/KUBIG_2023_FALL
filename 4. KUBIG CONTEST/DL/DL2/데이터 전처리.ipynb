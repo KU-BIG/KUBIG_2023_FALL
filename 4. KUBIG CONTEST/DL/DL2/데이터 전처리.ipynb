{
  "cells": [
    {
      "cell_type": "code",
      "execution_count": null,
      "metadata": {
        "id": "wEo866SV5sLo"
      },
      "outputs": [],
      "source": [
        "# 파일 불러오기\n",
        "import pandas as pd\n",
        "train=pd.read_csv(\"test_data.csv\")"
      ]
    },
    {
      "cell_type": "code",
      "execution_count": null,
      "metadata": {
        "id": "dIaq5YXq6LYL"
      },
      "outputs": [],
      "source": [
        "# 토픽별 도수분포표 확인\n",
        "import matplotlib.pyplot as plt\n",
        "train_new=train.groupby([\"topic_idx\"]).count()\n",
        "plt.bar(train_new.index,train_new[\"index\"])\n",
        "plt.show()"
      ]
    },
    {
      "cell_type": "code",
      "execution_count": null,
      "metadata": {
        "id": "oFkEezxJ6dTc"
      },
      "outputs": [],
      "source": [
        "# 뉴스 기사 불용어 확인\n",
        "b=list()\n",
        "c=list()\n",
        "for i in range(train.shape[0]) :\n",
        "    a=train.loc[i][\"title\"]\n",
        "    a=a.split()\n",
        "    b.append(a[-1])\n",
        "    c.append(a[0])\n",
        "\n",
        "a=pd.DataFrame()\n",
        "a[\"end\"]=b\n",
        "a[\"start\"]=c"
      ]
    },
    {
      "cell_type": "code",
      "execution_count": null,
      "metadata": {
        "id": "QLGL6c0N6mBE"
      },
      "outputs": [],
      "source": [
        "a1=a.groupby(a[\"start\"]).count()\n",
        "a1=a1.sort_values(ascending=False, by=\"end\")\n",
        "a1.head(50)"
      ]
    },
    {
      "cell_type": "code",
      "execution_count": null,
      "metadata": {
        "id": "Ydhkzcws6oXc"
      },
      "outputs": [],
      "source": [
        "a2=a.groupby(a[\"end\"]).count()\n",
        "a2=a2.sort_values(ascending=False, by=\"start\")\n",
        "a2.head(50)"
      ]
    },
    {
      "cell_type": "code",
      "execution_count": null,
      "metadata": {
        "id": "_q4sZHa16qXj"
      },
      "outputs": [],
      "source": [
        "# 전처리\n",
        "def word_delete(title):\n",
        "    delete_word = [\n",
        "        \"1보\",\n",
        "        \"2보\",\n",
        "        \"3보\",\n",
        "        \"4보\",\n",
        "        \"5보\",\n",
        "        \"6보\",\n",
        "        \"게시판\",\n",
        "        \"신간\",\n",
        "        \"그래픽\",\n",
        "        \"속보\",\n",
        "        \"영상\",\n",
        "        \"...\",\n",
        "        \"주말 N\",\n",
        "        \"QA\",\n",
        "        \"동정\",\n",
        "        \"위클리\",\n",
        "        \"주간 화제의 뉴스\",\n",
        "        \"카드뉴스\",\n",
        "        \"팩트체크\",\n",
        "######## 스포츠 10대 뉴스, 관련주 등 키워드 추론 가능 내용은 제거하지 않음\n",
        "    ]\n",
        "    for i in delete_word:\n",
        "        if title.endswith(i) or title.startswith(i):\n",
        "            title = title.replace(i, \"\")\n",
        "    if title.endswith(\"종합\"):\n",
        "        title = title[:-2]\n",
        "    title = title.replace(\"↑\", \" 증가\")\n",
        "    title = title.replace(\"↓\", \" 감소\")\n",
        "    title = title.replace(\"→\", \"에서 \")\n",
        "    title = title.replace(\"~\", \"에서 \")\n",
        "    title = title.replace(\"·\", \" 그리고 \")\n",
        "    title = title.replace(\":\", \" 대 \")\n",
        "    title = title.replace(\"%\", \"퍼센트\")\n",
        "    title=title.replace(\"…\",\" \")\n",
        "    title=title.replace(\"...\", \" \")\n",
        "    title=title.replace(\"&\",\"그리고\")\n",
        "    return title\n",
        "\n",
        "# 빈도가 많은 용어들 중 토픽과 상관없는 불용어 제거\n",
        "# 빈도가 적어도 위클리 뉴스 등 필요없는 불용어 제거\n",
        "# 어미에 종합이 있는 경우 및 각종 기호 등 제거\n",
        "# %, …가 남아있을 경우 번역 시 결측치 발생하여 퍼센트로 변경 후 사용"
      ]
    },
    {
      "cell_type": "code",
      "execution_count": null,
      "metadata": {
        "id": "1y-Wipfa61FZ"
      },
      "outputs": [],
      "source": [
        "def word_eda(title) :\n",
        "    title=word_delete(title)\n",
        "    return title\n",
        "\n",
        "train['title']=train['title'].apply(word_eda)"
      ]
    },
    {
      "cell_type": "code",
      "execution_count": null,
      "metadata": {
        "colab": {
          "base_uri": "https://localhost:8080/"
        },
        "id": "QWTogRKM64dx",
        "outputId": "20e53e53-fea2-49eb-e853-f289655e49e7"
      },
      "outputs": [
        {
          "name": "stdout",
          "output_type": "stream",
          "text": [
            "Requirement already satisfied: tqdm in /usr/local/lib/python3.10/dist-packages (4.66.1)\n"
          ]
        }
      ],
      "source": [
        "# 번역\n",
        "!pip install tqdm"
      ]
    },
    {
      "cell_type": "code",
      "execution_count": null,
      "metadata": {
        "id": "jLfLZofi6_xS"
      },
      "outputs": [],
      "source": [
        "import sys\n",
        "import numpy as np\n",
        "import random\n",
        "from tqdm.notebook import tqdm\n",
        "import os\n",
        "import re\n",
        "import time\n",
        "from collections import Counter"
      ]
    },
    {
      "cell_type": "code",
      "execution_count": null,
      "metadata": {
        "colab": {
          "base_uri": "https://localhost:8080/"
        },
        "id": "8FRybHIW7Ka5",
        "outputId": "34c7e71d-097b-42d3-9f6b-593bb78c1e4a"
      },
      "outputs": [
        {
          "name": "stdout",
          "output_type": "stream",
          "text": [
            "Collecting selenium\n",
            "  Downloading selenium-4.11.2-py3-none-any.whl (7.2 MB)\n",
            "\u001b[2K     \u001b[90m━━━━━━━━━━━━━━━━━━━━━━━━━━━━━━━━━━━━━━━━\u001b[0m \u001b[32m7.2/7.2 MB\u001b[0m \u001b[31m12.5 MB/s\u001b[0m eta \u001b[36m0:00:00\u001b[0m\n",
            "\u001b[?25hRequirement already satisfied: urllib3[socks]<3,>=1.26 in /usr/local/lib/python3.10/dist-packages (from selenium) (2.0.4)\n",
            "Collecting trio~=0.17 (from selenium)\n",
            "  Downloading trio-0.22.2-py3-none-any.whl (400 kB)\n",
            "\u001b[2K     \u001b[90m━━━━━━━━━━━━━━━━━━━━━━━━━━━━━━━━━━━━━━\u001b[0m \u001b[32m400.2/400.2 kB\u001b[0m \u001b[31m27.3 MB/s\u001b[0m eta \u001b[36m0:00:00\u001b[0m\n",
            "\u001b[?25hCollecting trio-websocket~=0.9 (from selenium)\n",
            "  Downloading trio_websocket-0.10.3-py3-none-any.whl (17 kB)\n",
            "Requirement already satisfied: certifi>=2021.10.8 in /usr/local/lib/python3.10/dist-packages (from selenium) (2023.7.22)\n",
            "Requirement already satisfied: attrs>=20.1.0 in /usr/local/lib/python3.10/dist-packages (from trio~=0.17->selenium) (23.1.0)\n",
            "Requirement already satisfied: sortedcontainers in /usr/local/lib/python3.10/dist-packages (from trio~=0.17->selenium) (2.4.0)\n",
            "Requirement already satisfied: idna in /usr/local/lib/python3.10/dist-packages (from trio~=0.17->selenium) (3.4)\n",
            "Collecting outcome (from trio~=0.17->selenium)\n",
            "  Downloading outcome-1.2.0-py2.py3-none-any.whl (9.7 kB)\n",
            "Requirement already satisfied: sniffio in /usr/local/lib/python3.10/dist-packages (from trio~=0.17->selenium) (1.3.0)\n",
            "Requirement already satisfied: exceptiongroup>=1.0.0rc9 in /usr/local/lib/python3.10/dist-packages (from trio~=0.17->selenium) (1.1.3)\n",
            "Collecting wsproto>=0.14 (from trio-websocket~=0.9->selenium)\n",
            "  Downloading wsproto-1.2.0-py3-none-any.whl (24 kB)\n",
            "Requirement already satisfied: pysocks!=1.5.7,<2.0,>=1.5.6 in /usr/local/lib/python3.10/dist-packages (from urllib3[socks]<3,>=1.26->selenium) (1.7.1)\n",
            "Collecting h11<1,>=0.9.0 (from wsproto>=0.14->trio-websocket~=0.9->selenium)\n",
            "  Downloading h11-0.14.0-py3-none-any.whl (58 kB)\n",
            "\u001b[2K     \u001b[90m━━━━━━━━━━━━━━━━━━━━━━━━━━━━━━━━━━━━━━━━\u001b[0m \u001b[32m58.3/58.3 kB\u001b[0m \u001b[31m5.1 MB/s\u001b[0m eta \u001b[36m0:00:00\u001b[0m\n",
            "\u001b[?25hInstalling collected packages: outcome, h11, wsproto, trio, trio-websocket, selenium\n",
            "Successfully installed h11-0.14.0 outcome-1.2.0 selenium-4.11.2 trio-0.22.2 trio-websocket-0.10.3 wsproto-1.2.0\n",
            "Get:1 https://cloud.r-project.org/bin/linux/ubuntu jammy-cran40/ InRelease [3,626 B]\n",
            "Hit:2 https://developer.download.nvidia.com/compute/cuda/repos/ubuntu2204/x86_64  InRelease\n",
            "Get:3 http://security.ubuntu.com/ubuntu jammy-security InRelease [110 kB]\n",
            "Hit:4 http://archive.ubuntu.com/ubuntu jammy InRelease\n",
            "Get:5 http://archive.ubuntu.com/ubuntu jammy-updates InRelease [119 kB]\n",
            "Hit:6 https://ppa.launchpadcontent.net/c2d4u.team/c2d4u4.0+/ubuntu jammy InRelease\n",
            "Get:7 http://archive.ubuntu.com/ubuntu jammy-backports InRelease [109 kB]\n",
            "Get:8 https://ppa.launchpadcontent.net/deadsnakes/ppa/ubuntu jammy InRelease [18.1 kB]\n",
            "Get:9 http://archive.ubuntu.com/ubuntu jammy-updates/main amd64 Packages [1,136 kB]\n",
            "Get:10 http://archive.ubuntu.com/ubuntu jammy-updates/universe amd64 Packages [1,247 kB]\n",
            "Hit:11 https://ppa.launchpadcontent.net/graphics-drivers/ppa/ubuntu jammy InRelease\n",
            "Hit:12 https://ppa.launchpadcontent.net/ubuntugis/ppa/ubuntu jammy InRelease\n",
            "Get:13 https://ppa.launchpadcontent.net/deadsnakes/ppa/ubuntu jammy/main amd64 Packages [21.8 kB]\n",
            "Fetched 2,764 kB in 3s (841 kB/s)\n",
            "Reading package lists... Done\n",
            "Reading package lists... Done\n",
            "Building dependency tree... Done\n",
            "Reading state information... Done\n",
            "The following additional packages will be installed:\n",
            "  apparmor chromium-browser libfuse3-3 liblzo2-2 snapd squashfs-tools\n",
            "  systemd-hwe-hwdb udev\n",
            "Suggested packages:\n",
            "  apparmor-profiles-extra apparmor-utils fuse3 zenity | kdialog\n",
            "The following NEW packages will be installed:\n",
            "  apparmor chromium-browser chromium-chromedriver libfuse3-3 liblzo2-2 snapd\n",
            "  squashfs-tools systemd-hwe-hwdb udev\n",
            "0 upgraded, 9 newly installed, 0 to remove and 16 not upgraded.\n",
            "Need to get 26.3 MB of archives.\n",
            "After this operation, 116 MB of additional disk space will be used.\n",
            "Get:1 http://archive.ubuntu.com/ubuntu jammy-updates/main amd64 apparmor amd64 3.0.4-2ubuntu2.2 [595 kB]\n",
            "Get:2 http://archive.ubuntu.com/ubuntu jammy/main amd64 liblzo2-2 amd64 2.10-2build3 [53.7 kB]\n",
            "Get:3 http://archive.ubuntu.com/ubuntu jammy/main amd64 squashfs-tools amd64 1:4.5-3build1 [159 kB]\n",
            "Get:4 http://archive.ubuntu.com/ubuntu jammy-updates/main amd64 udev amd64 249.11-0ubuntu3.9 [1,557 kB]\n",
            "Get:5 http://archive.ubuntu.com/ubuntu jammy/main amd64 libfuse3-3 amd64 3.10.5-1build1 [81.2 kB]\n",
            "Get:6 http://archive.ubuntu.com/ubuntu jammy-updates/main amd64 snapd amd64 2.58+22.04.1 [23.8 MB]\n",
            "Get:7 http://archive.ubuntu.com/ubuntu jammy-updates/universe amd64 chromium-browser amd64 1:85.0.4183.83-0ubuntu2.22.04.1 [49.2 kB]\n",
            "Get:8 http://archive.ubuntu.com/ubuntu jammy-updates/universe amd64 chromium-chromedriver amd64 1:85.0.4183.83-0ubuntu2.22.04.1 [2,308 B]\n",
            "Get:9 http://archive.ubuntu.com/ubuntu jammy-updates/main amd64 systemd-hwe-hwdb all 249.11.3 [2,908 B]\n",
            "Fetched 26.3 MB in 3s (9,579 kB/s)\n",
            "Preconfiguring packages ...\n",
            "Selecting previously unselected package apparmor.\n",
            "(Reading database ... 120831 files and directories currently installed.)\n",
            "Preparing to unpack .../0-apparmor_3.0.4-2ubuntu2.2_amd64.deb ...\n",
            "Unpacking apparmor (3.0.4-2ubuntu2.2) ...\n",
            "Selecting previously unselected package liblzo2-2:amd64.\n",
            "Preparing to unpack .../1-liblzo2-2_2.10-2build3_amd64.deb ...\n",
            "Unpacking liblzo2-2:amd64 (2.10-2build3) ...\n",
            "Selecting previously unselected package squashfs-tools.\n",
            "Preparing to unpack .../2-squashfs-tools_1%3a4.5-3build1_amd64.deb ...\n",
            "Unpacking squashfs-tools (1:4.5-3build1) ...\n",
            "Selecting previously unselected package udev.\n",
            "Preparing to unpack .../3-udev_249.11-0ubuntu3.9_amd64.deb ...\n",
            "Unpacking udev (249.11-0ubuntu3.9) ...\n",
            "Selecting previously unselected package libfuse3-3:amd64.\n",
            "Preparing to unpack .../4-libfuse3-3_3.10.5-1build1_amd64.deb ...\n",
            "Unpacking libfuse3-3:amd64 (3.10.5-1build1) ...\n",
            "Selecting previously unselected package snapd.\n",
            "Preparing to unpack .../5-snapd_2.58+22.04.1_amd64.deb ...\n",
            "Unpacking snapd (2.58+22.04.1) ...\n",
            "Setting up apparmor (3.0.4-2ubuntu2.2) ...\n",
            "Created symlink /etc/systemd/system/sysinit.target.wants/apparmor.service → /lib/systemd/system/apparmor.service.\n",
            "Setting up liblzo2-2:amd64 (2.10-2build3) ...\n",
            "Setting up squashfs-tools (1:4.5-3build1) ...\n",
            "Setting up udev (249.11-0ubuntu3.9) ...\n",
            "invoke-rc.d: could not determine current runlevel\n",
            "invoke-rc.d: policy-rc.d denied execution of start.\n",
            "Setting up libfuse3-3:amd64 (3.10.5-1build1) ...\n",
            "Setting up snapd (2.58+22.04.1) ...\n",
            "Created symlink /etc/systemd/system/multi-user.target.wants/snapd.aa-prompt-listener.service → /lib/systemd/system/snapd.aa-prompt-listener.service.\n",
            "Created symlink /etc/systemd/system/multi-user.target.wants/snapd.apparmor.service → /lib/systemd/system/snapd.apparmor.service.\n",
            "Created symlink /etc/systemd/system/multi-user.target.wants/snapd.autoimport.service → /lib/systemd/system/snapd.autoimport.service.\n",
            "Created symlink /etc/systemd/system/multi-user.target.wants/snapd.core-fixup.service → /lib/systemd/system/snapd.core-fixup.service.\n",
            "Created symlink /etc/systemd/system/multi-user.target.wants/snapd.recovery-chooser-trigger.service → /lib/systemd/system/snapd.recovery-chooser-trigger.service.\n",
            "Created symlink /etc/systemd/system/multi-user.target.wants/snapd.seeded.service → /lib/systemd/system/snapd.seeded.service.\n",
            "Created symlink /etc/systemd/system/cloud-final.service.wants/snapd.seeded.service → /lib/systemd/system/snapd.seeded.service.\n",
            "Unit /lib/systemd/system/snapd.seeded.service is added as a dependency to a non-existent unit cloud-final.service.\n",
            "Created symlink /etc/systemd/system/multi-user.target.wants/snapd.service → /lib/systemd/system/snapd.service.\n",
            "Created symlink /etc/systemd/system/timers.target.wants/snapd.snap-repair.timer → /lib/systemd/system/snapd.snap-repair.timer.\n",
            "Created symlink /etc/systemd/system/sockets.target.wants/snapd.socket → /lib/systemd/system/snapd.socket.\n",
            "Created symlink /etc/systemd/system/final.target.wants/snapd.system-shutdown.service → /lib/systemd/system/snapd.system-shutdown.service.\n",
            "Selecting previously unselected package chromium-browser.\n",
            "(Reading database ... 121271 files and directories currently installed.)\n",
            "Preparing to unpack .../chromium-browser_1%3a85.0.4183.83-0ubuntu2.22.04.1_amd64.deb ...\n",
            "=> Installing the chromium snap\n",
            "==> Checking connectivity with the snap store\n",
            "===> System doesn't have a working snapd, skipping\n",
            "Unpacking chromium-browser (1:85.0.4183.83-0ubuntu2.22.04.1) ...\n",
            "Selecting previously unselected package chromium-chromedriver.\n",
            "Preparing to unpack .../chromium-chromedriver_1%3a85.0.4183.83-0ubuntu2.22.04.1_amd64.deb ...\n",
            "Unpacking chromium-chromedriver (1:85.0.4183.83-0ubuntu2.22.04.1) ...\n",
            "Selecting previously unselected package systemd-hwe-hwdb.\n",
            "Preparing to unpack .../systemd-hwe-hwdb_249.11.3_all.deb ...\n",
            "Unpacking systemd-hwe-hwdb (249.11.3) ...\n",
            "Setting up systemd-hwe-hwdb (249.11.3) ...\n",
            "Setting up chromium-browser (1:85.0.4183.83-0ubuntu2.22.04.1) ...\n",
            "update-alternatives: using /usr/bin/chromium-browser to provide /usr/bin/x-www-browser (x-www-browser) in auto mode\n",
            "update-alternatives: using /usr/bin/chromium-browser to provide /usr/bin/gnome-www-browser (gnome-www-browser) in auto mode\n",
            "Setting up chromium-chromedriver (1:85.0.4183.83-0ubuntu2.22.04.1) ...\n",
            "Processing triggers for udev (249.11-0ubuntu3.9) ...\n",
            "Processing triggers for hicolor-icon-theme (0.17-2) ...\n",
            "Processing triggers for libc-bin (2.35-0ubuntu3.1) ...\n",
            "/sbin/ldconfig.real: /usr/local/lib/libtbbmalloc_proxy.so.2 is not a symbolic link\n",
            "\n",
            "/sbin/ldconfig.real: /usr/local/lib/libtbbbind.so.3 is not a symbolic link\n",
            "\n",
            "/sbin/ldconfig.real: /usr/local/lib/libtbbmalloc.so.2 is not a symbolic link\n",
            "\n",
            "/sbin/ldconfig.real: /usr/local/lib/libtbb.so.12 is not a symbolic link\n",
            "\n",
            "/sbin/ldconfig.real: /usr/local/lib/libtbbbind_2_5.so.3 is not a symbolic link\n",
            "\n",
            "/sbin/ldconfig.real: /usr/local/lib/libtbbbind_2_0.so.3 is not a symbolic link\n",
            "\n",
            "Processing triggers for man-db (2.10.2-1) ...\n",
            "Processing triggers for dbus (1.12.20-2ubuntu4.1) ...\n",
            "cp: '/usr/lib/chromium-browser/chromedriver' and '/usr/bin/chromedriver' are the same file\n"
          ]
        }
      ],
      "source": [
        "!pip install selenium\n",
        "!apt-get update\n",
        "!apt install chromium-chromedriver\n",
        "!cp /usr/lib/chromium-browser/chromedriver /usr/bin\n",
        "\n",
        "import selenium\n",
        "from selenium import webdriver\n",
        "from selenium.webdriver.common.by import By\n",
        "from selenium.webdriver.support.ui import WebDriverWait\n",
        "from selenium.webdriver.support import expected_conditions as EC"
      ]
    },
    {
      "cell_type": "code",
      "execution_count": null,
      "metadata": {
        "colab": {
          "base_uri": "https://localhost:8080/",
          "height": 36
        },
        "id": "UJQ_W9Uu7NQ3",
        "outputId": "0bc0bf94-833b-4081-b1bb-77759e6045b5"
      },
      "outputs": [
        {
          "data": {
            "application/vnd.google.colaboratory.intrinsic+json": {
              "type": "string"
            },
            "text/plain": [
              "'/content'"
            ]
          },
          "execution_count": 11,
          "metadata": {},
          "output_type": "execute_result"
        }
      ],
      "source": [
        "path=os.getcwd()\n",
        "path"
      ]
    },
    {
      "cell_type": "code",
      "execution_count": null,
      "metadata": {
        "id": "n2KwHzo67T3W"
      },
      "outputs": [],
      "source": [
        "data_path='\\content'"
      ]
    },
    {
      "cell_type": "code",
      "execution_count": null,
      "metadata": {
        "id": "nVNKfTDh7VgO"
      },
      "outputs": [],
      "source": [
        "def chrome_setting():\n",
        "  chrome_options = webdriver.ChromeOptions()\n",
        "  chrome_options.add_argument('--headless')\n",
        "  chrome_options.add_argument('--no-sandbox')\n",
        "  chrome_options.add_argument('--disable-dev-shm-usage')\n",
        "  driver = webdriver.Chrome(options=chrome_options)\n",
        "  return driver\n",
        "\n",
        "driver=chrome_setting()"
      ]
    },
    {
      "cell_type": "code",
      "execution_count": null,
      "metadata": {
        "id": "oZyPwahF7YHA"
      },
      "outputs": [],
      "source": [
        "# Crawling 한->영 번역\n",
        "def kor_to_trans(text_data, trans_lang,start_index,final_index):\n",
        "\n",
        "  target_present = EC.presence_of_element_located((By.XPATH, '//*[@id=\"txtTarget\"]'))\n",
        "\n",
        "  for i in tqdm(range(start_index,final_index)):\n",
        "\n",
        "    if (i!=0)&(i%99==0):\n",
        "      time.sleep(0.05)\n",
        "      np.save(data_path+'kor_to_eng_train_{}_{}.npy'.format(start_index,final_index),trans_list)\n",
        "    elif i==(final_index) :\n",
        "      time.sleep(0.05)\n",
        "      np.save(data_path+'kor_to_eng_train_{}_{}.npy'.format(start_index,final_index),trans_list)\n",
        "\n",
        "    try:\n",
        "      driver.get('https://papago.naver.com/?sk=ko&tk='+trans_lang+'&st='+text_data[i])\n",
        "      time.sleep(1.5)\n",
        "      element=WebDriverWait(driver, 10).until(target_present)\n",
        "      time.sleep(0.1)\n",
        "      backtrans = element.text\n",
        "\n",
        "      if (backtrans=='')|(backtrans==' '):\n",
        "        element=WebDriverWait(driver, 20).until(target_present)\n",
        "        backtrans = element.text\n",
        "        trans_list.append(backtrans)\n",
        "      else:\n",
        "        trans_list.append(backtrans)\n",
        "\n",
        "    except:\n",
        "      trans_list.append('')"
      ]
    },
    {
      "cell_type": "code",
      "execution_count": null,
      "metadata": {
        "colab": {
          "base_uri": "https://localhost:8080/",
          "height": 49,
          "referenced_widgets": [
            "640ef07e43984d9a8f1defd062a8be2c",
            "86450ce63c73495b85d24c869a11f0e3",
            "cba3159016444262abab328564eb3d6a",
            "15e3b5e922b04b829b50a69b20236620",
            "dc99218ae415437195eaca2bb5f14f76",
            "340191eba9dc4032b17775ff2aa0336d",
            "610f8bab680845a8893f6126b1ab5b11",
            "0458237c11a64e2b9bc7b284528e6195",
            "b19b104e249f4f6e8a71ad54f77788b8",
            "1092a4f200544ef48ff6394b2a55479a",
            "7f0e5110f2e940c68ee92a9d2f41f374"
          ]
        },
        "id": "IILGhkYy7hEJ",
        "outputId": "82cfc65f-a70b-4a9e-ecfb-2818ca12509e"
      },
      "outputs": [
        {
          "data": {
            "application/vnd.jupyter.widget-view+json": {
              "model_id": "640ef07e43984d9a8f1defd062a8be2c",
              "version_major": 2,
              "version_minor": 0
            },
            "text/plain": [
              "  0%|          | 0/100 [00:00<?, ?it/s]"
            ]
          },
          "metadata": {},
          "output_type": "display_data"
        }
      ],
      "source": [
        "a=train.shape[0]\n",
        "trans_list=[]\n",
        "kor_to_trans(train['title'], 'en',0,a)\n",
        "np.save(data_path+'kor_to_eng_train.npy',trans_list)\n",
        "# 실제 데이터는 너무 커서 10000개씩 구간을 나눠서 번역 후 결합\n",
        "# time sleep이나 wait time이 짧아 결측치가 생기는 문제가 발생하여 그 시간을 늘림"
      ]
    },
    {
      "cell_type": "code",
      "execution_count": null,
      "metadata": {
        "id": "Rv2GWrTc7y29"
      },
      "outputs": [],
      "source": [
        "data2=np.load('\\contentkor_to_eng_train.npy')\n",
        "train_eng=pd.DataFrame()\n",
        "train_eng[\"title_en\"]=data2"
      ]
    },
    {
      "cell_type": "code",
      "execution_count": null,
      "metadata": {
        "id": "gMUEOyJA74Gx"
      },
      "outputs": [],
      "source": [
        "train_eng[\"index\"]=train[\"index\"]\n",
        "train_eng[\"title\"]=train[\"title\"]\n",
        "train_eng[\"topic_idx\"]=train[\"topic_idx\"]"
      ]
    },
    {
      "cell_type": "code",
      "execution_count": null,
      "metadata": {
        "id": "8EOA4IWF8Hka"
      },
      "outputs": [],
      "source": [
        "train_eng[trian_eng[\"title_en\"].isnull()]\n",
        "# 이거 아니면 train_eng[train_eng[\"title_en\"]==''] 사용\n",
        "# 결측치가 있을 시 새로운 데이터로 설정하여 재분석 실시 후 concat함수를 통해 결합"
      ]
    },
    {
      "cell_type": "code",
      "execution_count": null,
      "metadata": {
        "id": "7DREpaqeIiKL"
      },
      "outputs": [],
      "source": [
        "## 결측치 재번역\n",
        "train_eng_null=train_eng[trian_eng[\"title_en\"]=='']\n",
        "train_eng_null=train_eng_null.reset_index(drop=True)\n",
        "a=train_eng_null.shape[0]\n",
        "trans_list=[]\n",
        "kor_to_trans(train_eng_null['title'], 'en',0,a)\n",
        "np.save(data_path+'kor_to_eng_null_train.npy',trans_list)"
      ]
    },
    {
      "cell_type": "code",
      "execution_count": null,
      "metadata": {
        "id": "4qvB0S6RJE4H"
      },
      "outputs": [],
      "source": [
        "data2=np.load('Untitled Folderkor_to_eng_null_train.npy')\n",
        "train_eng_null=pd.DataFrame()\n",
        "train_eng_null[\"index\"]=train_null[\"index\"]\n",
        "train_eng_null[\"title\"]=train_null[\"title\"]\n",
        "train_eng_null[\"title_en\"]=data2"
      ]
    },
    {
      "cell_type": "code",
      "execution_count": null,
      "metadata": {
        "id": "tnjyStJvJQuD"
      },
      "outputs": [],
      "source": [
        "# 인덱스 재설정\n",
        "train_eng[\"index2\"]=train_eng[\"index\"]\n",
        "train_eng=train_eng_null.set_index(\"index2\")\n",
        "train_eng_null[\"index2\"]=train_eng[\"index\"]\n",
        "train_eng_null=train_eng_null.set_index(\"index2\")"
      ]
    },
    {
      "cell_type": "code",
      "execution_count": null,
      "metadata": {
        "id": "kZSmJmtUJZ_t"
      },
      "outputs": [],
      "source": [
        "id=train_eng_null.index\n",
        "train_eng2=train_eng.drop(id)\n",
        "train_eng=pd.concat([train_eng_null,train_eng])\n",
        "train_eng=train_eng.sort_values(by=\"index\")\n",
        "train_eng=train_eng.reset_index(drop=True)"
      ]
    },
    {
      "cell_type": "code",
      "execution_count": null,
      "metadata": {
        "id": "1J5fA9ORuH7F"
      },
      "outputs": [],
      "source": [
        "train_eng.to_csv(\"train_eng.csv\")"
      ]
    },
    {
      "cell_type": "code",
      "execution_count": null,
      "metadata": {
        "id": "Qvs2Hd3tmEHy"
      },
      "outputs": [],
      "source": [
        "def per_eda(title) :\n",
        "    title=title.replace(\"%\",\"percent\")\n",
        "    title=title.replace(\"...\", \" \")\n",
        "    title=title.replace(\"…\",\" \")\n",
        "    title=title.replace(\"&\",\"end\")\n",
        "    return title\n",
        "\n",
        "train_eng=pd.read_csv(\"train_eng.csv\") # 한글이 안될 시 encoding='cp949' 사용\n",
        "train_eng['title_en']=train_eng['title_en'].apply(per_eda)\n",
        "\n",
        "## 퍼센트가 영어 번역 시 다시 %로 번역되는 등 특수문자가 생기는 경우가 생겨 변환 후 번역 실시"
      ]
    },
    {
      "cell_type": "code",
      "execution_count": null,
      "metadata": {
        "id": "1UPeNf9BmHo6"
      },
      "outputs": [],
      "source": [
        "def en_to_trans(text_data, trans_lang,start_index,final_index):\n",
        "\n",
        "  target_present = EC.presence_of_element_located((By.XPATH, '//*[@id=\"txtTarget\"]'))\n",
        "\n",
        "  for i in tqdm(range(start_index,final_index)):\n",
        "\n",
        "    if (i!=0)&(i%99==0):\n",
        "      time.sleep(0.05)\n",
        "      np.save(data_path+'eng_to_kor_train_{}_{}.npy'.format(start_index,final_index),trans_list)\n",
        "    elif i==final_index :\n",
        "      time.sleep(0.05)\n",
        "      np.save(data_path+'eng_to_kor_train_{}_{}.npy'.format(start_index,final_index),trans_list)\n",
        "\n",
        "    try:\n",
        "      driver.get('https://papago.naver.com/?sk=en&tk='+trans_lang+'&st='+text_data[i])\n",
        "      time.sleep(1.5)\n",
        "      element=WebDriverWait(driver, 10).until(target_present)\n",
        "      time.sleep(0.1)\n",
        "      backtrans = element.text\n",
        "\n",
        "      if (backtrans=='')|(backtrans==' '):\n",
        "        element=WebDriverWait(driver, 20).until(target_present)\n",
        "        backtrans = element.text\n",
        "        trans_list.append(backtrans)\n",
        "      else:\n",
        "        trans_list.append(backtrans)\n",
        "\n",
        "    except:\n",
        "      trans_list.append('')"
      ]
    },
    {
      "cell_type": "code",
      "execution_count": null,
      "metadata": {
        "id": "HZbDv2SnmT96"
      },
      "outputs": [],
      "source": [
        "a=train_eng.shape[0]\n",
        "trans_list=[]\n",
        "en_to_trans(train_eng['title_en'], 'ko',0,a)\n",
        "np.save(data_path+'eng_to_kor_train.npy',trans_list)"
      ]
    },
    {
      "cell_type": "code",
      "execution_count": null,
      "metadata": {
        "id": "PtP6PInqmfD9"
      },
      "outputs": [],
      "source": [
        "data2=np.load('Untitled Foldereng_to_kor_train.npy')\n",
        "train_eng[\"title_kor\"]=data2\n",
        "## 이 과정에서도 결측치 생길 시 한-영과 같은 과정 거쳐서 처리"
      ]
    },
    {
      "cell_type": "code",
      "execution_count": null,
      "metadata": {
        "id": "KYC2DnD2mmsA"
      },
      "outputs": [],
      "source": [
        "def ch_eda(title) :\n",
        "    title=title.replace(\"英\",\"Great Britain\")\n",
        "    title=title.replace(\"美\", \"the United States\")\n",
        "    title=title.replace(\"伊\",\"Italy\")\n",
        "    title=title.replace(\"與\",\"the rulling party\")\n",
        "    title=title.replace(\"野\",\"the opposition party\")\n",
        "    title=title.replace(\"獨\",\"Germany\")\n",
        "    title=title.replace(\"女\",\"woman\")\n",
        "    title=title.replace(\"親\",\"friendly\")\n",
        "    title=title.replace(\"亞\",\"Asia\")\n",
        "    title=title.replace(\"反\",\"opposing\")\n",
        "    title=title.replace(\"印\",\"India\")\n",
        "    title=title.replace(\"檢\",\"the prosecution\")\n",
        "    title=title.replace(\"佛\",\"France\")\n",
        "    return title"
      ]
    },
    {
      "cell_type": "code",
      "execution_count": null,
      "metadata": {
        "id": "s_begv3NteBI"
      },
      "outputs": [],
      "source": [
        "# 영-한 역번역 시 한자의 경우 제대로 번역이 되지 않는 문제가 발생\n",
        "# 한자가 포함된 데이터 확인 후 ch_eda 적용 후 재번역 실시\n",
        "def contains_hanja(text):\n",
        "  hanja_range = (0x4E00, 0x9FFF)  # 한자 유니코드 범위\n",
        "  for char in text:\n",
        "    if hanja_range[0] <= ord(char) <= hanja_range[1]:\n",
        "      return True\n",
        "    else:\n",
        "      return False\n",
        "\n",
        "kor_data2_hanja = train_eng[train_eng['title_en'].apply(contains_hanja)]"
      ]
    },
    {
      "cell_type": "code",
      "execution_count": null,
      "metadata": {
        "id": "v2fOIh06tz9L"
      },
      "outputs": [],
      "source": [
        "# 한자어 포함 데이터프레임 추출\n",
        "example_list=[\"英\",\"美\",\"伊\",\"獨\",\"野\",\"與\",\"女\",\"親\",\"亞\",\"反\",\"印\",\"檢\",\"佛\"]\n",
        "test = '|'.join(example_list)\n",
        "train_eng_c=train_eng[train_eng[\"title_en\"].str.contains(test)]"
      ]
    },
    {
      "cell_type": "code",
      "execution_count": null,
      "metadata": {
        "id": "41P7sL4VuNkG"
      },
      "outputs": [],
      "source": [
        "train_eng_c=train_eng_c.reset_index(drop=True)\n",
        "train_eng_c[\"title_en\"]=train_eng_c[\"title_en\"].apply(ch_eda)"
      ]
    },
    {
      "cell_type": "code",
      "execution_count": null,
      "metadata": {
        "id": "WxjPWHwGuVgh"
      },
      "outputs": [],
      "source": [
        "a=train_eng_c.shape[0]\n",
        "trans_list=[]\n",
        "en_to_trans(train_eng_c['title_en'], 'ko',0,a)\n",
        "np.save(data_path+'eng_to_kor_train_c.npy',trans_list)"
      ]
    },
    {
      "cell_type": "code",
      "execution_count": null,
      "metadata": {
        "id": "eV-CZGlliyce"
      },
      "outputs": [],
      "source": [
        "data2=np.load('Untitled Foldereng_to_kor_train_c.npy')\n",
        "train_eng_ckor=pd.DataFrame()\n",
        "train_eng_ckor[\"index\"]=train_eng_c[\"index\"]\n",
        "train_eng_ckor[\"topic_idx\"]=train_eng_c[\"topic_idx\"]\n",
        "train_eng_ckor[\"title\"]=train_eng_c[\"title\"]\n",
        "train_eng_ckor[\"title_en\"]=train_eng_c[\"title_en\"]\n",
        "train_eng_ckor[\"title_kor\"]=data2"
      ]
    },
    {
      "cell_type": "code",
      "execution_count": null,
      "metadata": {
        "id": "PZOOlVG_kMRn"
      },
      "outputs": [],
      "source": [
        "# 한자어 적용 시 생기는 결측치 제거 및 인덱스 설정\n",
        "train_eng_ckor=train_eng_ckor.dropna()\n",
        "train_eng_ckor[\"index2\"]=train_eng_ckor[\"index\"]\n",
        "train_eng_ckor=train_eng_ckor.set_index(\"index2\")"
      ]
    },
    {
      "cell_type": "code",
      "execution_count": null,
      "metadata": {
        "id": "8uoAARYSkd2z"
      },
      "outputs": [],
      "source": [
        "train_f=pd.DataFrame()\n",
        "train_f[\"index\"]=train_eng[\"index\"]\n",
        "train_f[\"topic_idx\"]=train_eng[\"topic_idx\"]\n",
        "train_f[\"title\"]=train_eng[\"title\"]\n",
        "train_f[\"title_en\"]=train_eng[\"title_en\"]\n",
        "train_f[\"title_kor\"]=train_eng[\"title_kor\"]"
      ]
    },
    {
      "cell_type": "code",
      "execution_count": null,
      "metadata": {
        "id": "J6oMABwxrmDL"
      },
      "outputs": [],
      "source": [
        "train_f=train_f.sort_values(by=\"index\")\n",
        "train_f=train_f.reset_index(drop=True)"
      ]
    },
    {
      "cell_type": "code",
      "execution_count": null,
      "metadata": {
        "id": "kjYSoZOormNw"
      },
      "outputs": [],
      "source": [
        "### train_eng_ckor에 해당하는 index 제거\n",
        "id=train_eng_ckor.index\n",
        "train_fin=train_fi.drop(id)\n",
        "train_fina=pd.concat([train_fin,train_eng_ckor])"
      ]
    },
    {
      "cell_type": "code",
      "execution_count": null,
      "metadata": {
        "id": "fvNuBhC1sABy"
      },
      "outputs": [],
      "source": [
        "train_final=pd.DataFrame()\n",
        "train_final[\"index\"]=train_fina[\"index\"]\n",
        "train_final[\"title\"]=train_fina[\"title\"]\n",
        "train_final[\"topic_idx\"]=train_fina[\"topic_idx\"]\n",
        "train_final[\"title_en\"]=train_fina[\"title_en\"]\n",
        "train_final[\"title_kor\"]=train_fina[\"title_kor\"]"
      ]
    },
    {
      "cell_type": "code",
      "execution_count": null,
      "metadata": {
        "id": "tJGWCKRVsKhD"
      },
      "outputs": [],
      "source": [
        "train_final=train_final.sort_values(by=\"index\")\n",
        "train_final=train_final.reset_index(drop=True)\n",
        "train_final.to_csv(\"train_final.csv\")"
      ]
    },
    {
      "cell_type": "code",
      "execution_count": null,
      "metadata": {
        "id": "AjJR8edX4Cqt"
      },
      "outputs": [],
      "source": [
        "import pandas as pd\n",
        "train_final=pd.read_csv(\"train_final.csv\")"
      ]
    },
    {
      "cell_type": "code",
      "execution_count": null,
      "metadata": {
        "id": "0HEyPxh94E9l"
      },
      "outputs": [],
      "source": [
        "def ch2_eda(title) :\n",
        "    title=title.replace(\"英\",\"영국\")\n",
        "    title=title.replace(\"美\", \"미국\")\n",
        "    title=title.replace(\"伊\",\"이탈리아\")\n",
        "    title=title.replace(\"與\",\"여당\")\n",
        "    title=title.replace(\"野\",\"야당\")\n",
        "    title=title.replace(\"獨\",\"독일\")\n",
        "    title=title.replace(\"女\",\"여자\")\n",
        "    title=title.replace(\"親\",\"친\")\n",
        "    title=title.replace(\"亞\",\"아시아\")\n",
        "    title=title.replace(\"反\",\"반\")\n",
        "    title=title.replace(\"印\",\"인도\")\n",
        "    title=title.replace(\"檢\",\"검찰\")\n",
        "    title=title.replace(\"佛\",\"프랑스\")\n",
        "    title=title.replace(\"靑\", \"청와대\")\n",
        "    title=title.replace(\"北\", \"북한\")\n",
        "    title=title.replace(\"韓\", \"한국\")\n",
        "    title=title.replace(\"日\", \"일본\")\n",
        "    title=title.replace(\"中\", \"중국\")\n",
        "    return title"
      ]
    },
    {
      "cell_type": "code",
      "execution_count": null,
      "metadata": {
        "id": "4k1_7jIo4Gyk"
      },
      "outputs": [],
      "source": [
        "def per2_eda(title) :\n",
        "    title=title.replace(\"~\", \"에서 \")\n",
        "    title=title.replace(\"·\", \" 그리고 \")\n",
        "    title=title.replace(\":\", \" 대 \")\n",
        "    title=title.replace(\"%\",\"퍼센트\")\n",
        "    title=title.replace(\"...\", \" \")\n",
        "    title=title.replace(\"…\",\" \")\n",
        "    title=title.replace(\"&\",\"그리고\")\n",
        "    return title"
      ]
    },
    {
      "cell_type": "code",
      "execution_count": null,
      "metadata": {
        "id": "hLaitqwE4HxQ"
      },
      "outputs": [],
      "source": [
        "### 역번역 자료에서 한자 및 특정 문자 변환\n",
        "train_final[\"title_kor\"]=train_final[\"title_kor\"].apply(ch2_eda)\n",
        "train_final[\"title_kor\"]=train_final[\"title_kor\"].apply(per2_eda)"
      ]
    },
    {
      "cell_type": "code",
      "execution_count": null,
      "metadata": {
        "id": "Xhf5YmqDXWLp"
      },
      "outputs": [],
      "source": [
        "### 특수문자, 한자 등 없애기\n",
        "import re\n",
        "\n",
        "def remove_chr(str):\n",
        "\n",
        "    new = re.sub(r'[^a-zA-Z가-힣0-9\\s]', '', str) #\n",
        "    return new\n",
        "\n",
        "# train_final 데이터에 적용\n",
        "train_final1 = train_final\n",
        "temp = train_final1['title_kor'].apply(remove_chr)\n",
        "temp2 = train_final1['title_en'].apply(remove_chr)\n",
        "temp3 = train_final1['title'].apply(remove_chr)\n",
        "train_final1['title'] = temp3\n",
        "train_final1['title_kor'] = temp\n",
        "train_final1['title_en'] = temp2\n",
        "\n",
        "train_final1"
      ]
    }
  ],
  "metadata": {
    "colab": {
      "provenance": []
    },
    "kernelspec": {
      "display_name": "Python 3",
      "name": "python3"
    },
    "language_info": {
      "name": "python"
    },
    "widgets": {
      "application/vnd.jupyter.widget-state+json": {
        "0458237c11a64e2b9bc7b284528e6195": {
          "model_module": "@jupyter-widgets/base",
          "model_module_version": "1.2.0",
          "model_name": "LayoutModel",
          "state": {
            "_model_module": "@jupyter-widgets/base",
            "_model_module_version": "1.2.0",
            "_model_name": "LayoutModel",
            "_view_count": null,
            "_view_module": "@jupyter-widgets/base",
            "_view_module_version": "1.2.0",
            "_view_name": "LayoutView",
            "align_content": null,
            "align_items": null,
            "align_self": null,
            "border": null,
            "bottom": null,
            "display": null,
            "flex": null,
            "flex_flow": null,
            "grid_area": null,
            "grid_auto_columns": null,
            "grid_auto_flow": null,
            "grid_auto_rows": null,
            "grid_column": null,
            "grid_gap": null,
            "grid_row": null,
            "grid_template_areas": null,
            "grid_template_columns": null,
            "grid_template_rows": null,
            "height": null,
            "justify_content": null,
            "justify_items": null,
            "left": null,
            "margin": null,
            "max_height": null,
            "max_width": null,
            "min_height": null,
            "min_width": null,
            "object_fit": null,
            "object_position": null,
            "order": null,
            "overflow": null,
            "overflow_x": null,
            "overflow_y": null,
            "padding": null,
            "right": null,
            "top": null,
            "visibility": null,
            "width": null
          }
        },
        "1092a4f200544ef48ff6394b2a55479a": {
          "model_module": "@jupyter-widgets/base",
          "model_module_version": "1.2.0",
          "model_name": "LayoutModel",
          "state": {
            "_model_module": "@jupyter-widgets/base",
            "_model_module_version": "1.2.0",
            "_model_name": "LayoutModel",
            "_view_count": null,
            "_view_module": "@jupyter-widgets/base",
            "_view_module_version": "1.2.0",
            "_view_name": "LayoutView",
            "align_content": null,
            "align_items": null,
            "align_self": null,
            "border": null,
            "bottom": null,
            "display": null,
            "flex": null,
            "flex_flow": null,
            "grid_area": null,
            "grid_auto_columns": null,
            "grid_auto_flow": null,
            "grid_auto_rows": null,
            "grid_column": null,
            "grid_gap": null,
            "grid_row": null,
            "grid_template_areas": null,
            "grid_template_columns": null,
            "grid_template_rows": null,
            "height": null,
            "justify_content": null,
            "justify_items": null,
            "left": null,
            "margin": null,
            "max_height": null,
            "max_width": null,
            "min_height": null,
            "min_width": null,
            "object_fit": null,
            "object_position": null,
            "order": null,
            "overflow": null,
            "overflow_x": null,
            "overflow_y": null,
            "padding": null,
            "right": null,
            "top": null,
            "visibility": null,
            "width": null
          }
        },
        "15e3b5e922b04b829b50a69b20236620": {
          "model_module": "@jupyter-widgets/controls",
          "model_module_version": "1.5.0",
          "model_name": "HTMLModel",
          "state": {
            "_dom_classes": [],
            "_model_module": "@jupyter-widgets/controls",
            "_model_module_version": "1.5.0",
            "_model_name": "HTMLModel",
            "_view_count": null,
            "_view_module": "@jupyter-widgets/controls",
            "_view_module_version": "1.5.0",
            "_view_name": "HTMLView",
            "description": "",
            "description_tooltip": null,
            "layout": "IPY_MODEL_1092a4f200544ef48ff6394b2a55479a",
            "placeholder": "​",
            "style": "IPY_MODEL_7f0e5110f2e940c68ee92a9d2f41f374",
            "value": " 100/100 [03:13&lt;00:00,  1.87s/it]"
          }
        },
        "340191eba9dc4032b17775ff2aa0336d": {
          "model_module": "@jupyter-widgets/base",
          "model_module_version": "1.2.0",
          "model_name": "LayoutModel",
          "state": {
            "_model_module": "@jupyter-widgets/base",
            "_model_module_version": "1.2.0",
            "_model_name": "LayoutModel",
            "_view_count": null,
            "_view_module": "@jupyter-widgets/base",
            "_view_module_version": "1.2.0",
            "_view_name": "LayoutView",
            "align_content": null,
            "align_items": null,
            "align_self": null,
            "border": null,
            "bottom": null,
            "display": null,
            "flex": null,
            "flex_flow": null,
            "grid_area": null,
            "grid_auto_columns": null,
            "grid_auto_flow": null,
            "grid_auto_rows": null,
            "grid_column": null,
            "grid_gap": null,
            "grid_row": null,
            "grid_template_areas": null,
            "grid_template_columns": null,
            "grid_template_rows": null,
            "height": null,
            "justify_content": null,
            "justify_items": null,
            "left": null,
            "margin": null,
            "max_height": null,
            "max_width": null,
            "min_height": null,
            "min_width": null,
            "object_fit": null,
            "object_position": null,
            "order": null,
            "overflow": null,
            "overflow_x": null,
            "overflow_y": null,
            "padding": null,
            "right": null,
            "top": null,
            "visibility": null,
            "width": null
          }
        },
        "610f8bab680845a8893f6126b1ab5b11": {
          "model_module": "@jupyter-widgets/controls",
          "model_module_version": "1.5.0",
          "model_name": "DescriptionStyleModel",
          "state": {
            "_model_module": "@jupyter-widgets/controls",
            "_model_module_version": "1.5.0",
            "_model_name": "DescriptionStyleModel",
            "_view_count": null,
            "_view_module": "@jupyter-widgets/base",
            "_view_module_version": "1.2.0",
            "_view_name": "StyleView",
            "description_width": ""
          }
        },
        "640ef07e43984d9a8f1defd062a8be2c": {
          "model_module": "@jupyter-widgets/controls",
          "model_module_version": "1.5.0",
          "model_name": "HBoxModel",
          "state": {
            "_dom_classes": [],
            "_model_module": "@jupyter-widgets/controls",
            "_model_module_version": "1.5.0",
            "_model_name": "HBoxModel",
            "_view_count": null,
            "_view_module": "@jupyter-widgets/controls",
            "_view_module_version": "1.5.0",
            "_view_name": "HBoxView",
            "box_style": "",
            "children": [
              "IPY_MODEL_86450ce63c73495b85d24c869a11f0e3",
              "IPY_MODEL_cba3159016444262abab328564eb3d6a",
              "IPY_MODEL_15e3b5e922b04b829b50a69b20236620"
            ],
            "layout": "IPY_MODEL_dc99218ae415437195eaca2bb5f14f76"
          }
        },
        "7f0e5110f2e940c68ee92a9d2f41f374": {
          "model_module": "@jupyter-widgets/controls",
          "model_module_version": "1.5.0",
          "model_name": "DescriptionStyleModel",
          "state": {
            "_model_module": "@jupyter-widgets/controls",
            "_model_module_version": "1.5.0",
            "_model_name": "DescriptionStyleModel",
            "_view_count": null,
            "_view_module": "@jupyter-widgets/base",
            "_view_module_version": "1.2.0",
            "_view_name": "StyleView",
            "description_width": ""
          }
        },
        "86450ce63c73495b85d24c869a11f0e3": {
          "model_module": "@jupyter-widgets/controls",
          "model_module_version": "1.5.0",
          "model_name": "HTMLModel",
          "state": {
            "_dom_classes": [],
            "_model_module": "@jupyter-widgets/controls",
            "_model_module_version": "1.5.0",
            "_model_name": "HTMLModel",
            "_view_count": null,
            "_view_module": "@jupyter-widgets/controls",
            "_view_module_version": "1.5.0",
            "_view_name": "HTMLView",
            "description": "",
            "description_tooltip": null,
            "layout": "IPY_MODEL_340191eba9dc4032b17775ff2aa0336d",
            "placeholder": "​",
            "style": "IPY_MODEL_610f8bab680845a8893f6126b1ab5b11",
            "value": "100%"
          }
        },
        "b19b104e249f4f6e8a71ad54f77788b8": {
          "model_module": "@jupyter-widgets/controls",
          "model_module_version": "1.5.0",
          "model_name": "ProgressStyleModel",
          "state": {
            "_model_module": "@jupyter-widgets/controls",
            "_model_module_version": "1.5.0",
            "_model_name": "ProgressStyleModel",
            "_view_count": null,
            "_view_module": "@jupyter-widgets/base",
            "_view_module_version": "1.2.0",
            "_view_name": "StyleView",
            "bar_color": null,
            "description_width": ""
          }
        },
        "cba3159016444262abab328564eb3d6a": {
          "model_module": "@jupyter-widgets/controls",
          "model_module_version": "1.5.0",
          "model_name": "FloatProgressModel",
          "state": {
            "_dom_classes": [],
            "_model_module": "@jupyter-widgets/controls",
            "_model_module_version": "1.5.0",
            "_model_name": "FloatProgressModel",
            "_view_count": null,
            "_view_module": "@jupyter-widgets/controls",
            "_view_module_version": "1.5.0",
            "_view_name": "ProgressView",
            "bar_style": "success",
            "description": "",
            "description_tooltip": null,
            "layout": "IPY_MODEL_0458237c11a64e2b9bc7b284528e6195",
            "max": 100,
            "min": 0,
            "orientation": "horizontal",
            "style": "IPY_MODEL_b19b104e249f4f6e8a71ad54f77788b8",
            "value": 100
          }
        },
        "dc99218ae415437195eaca2bb5f14f76": {
          "model_module": "@jupyter-widgets/base",
          "model_module_version": "1.2.0",
          "model_name": "LayoutModel",
          "state": {
            "_model_module": "@jupyter-widgets/base",
            "_model_module_version": "1.2.0",
            "_model_name": "LayoutModel",
            "_view_count": null,
            "_view_module": "@jupyter-widgets/base",
            "_view_module_version": "1.2.0",
            "_view_name": "LayoutView",
            "align_content": null,
            "align_items": null,
            "align_self": null,
            "border": null,
            "bottom": null,
            "display": null,
            "flex": null,
            "flex_flow": null,
            "grid_area": null,
            "grid_auto_columns": null,
            "grid_auto_flow": null,
            "grid_auto_rows": null,
            "grid_column": null,
            "grid_gap": null,
            "grid_row": null,
            "grid_template_areas": null,
            "grid_template_columns": null,
            "grid_template_rows": null,
            "height": null,
            "justify_content": null,
            "justify_items": null,
            "left": null,
            "margin": null,
            "max_height": null,
            "max_width": null,
            "min_height": null,
            "min_width": null,
            "object_fit": null,
            "object_position": null,
            "order": null,
            "overflow": null,
            "overflow_x": null,
            "overflow_y": null,
            "padding": null,
            "right": null,
            "top": null,
            "visibility": null,
            "width": null
          }
        }
      }
    }
  },
  "nbformat": 4,
  "nbformat_minor": 0
}
