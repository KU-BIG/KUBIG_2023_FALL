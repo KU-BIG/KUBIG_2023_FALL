{
 "cells": [
  {
   "cell_type": "code",
   "execution_count": null,
   "metadata": {},
   "outputs": [],
   "source": [
    "import pandas as pd\n",
    "import numpy as np\n",
    "import os\n",
    "import re"
   ]
  },
  {
   "cell_type": "markdown",
   "metadata": {},
   "source": [
    "# 헤드라인 뉴스 csv"
   ]
  },
  {
   "cell_type": "code",
   "execution_count": null,
   "metadata": {},
   "outputs": [],
   "source": [
    "# CSV 파일이 들어있는 폴더 경로\n",
    "csv_folder_path = \"../dataset/navernews\"\n",
    "\n",
    "# 폴더 내에 있는 모든 파일 목록 가져오기\n",
    "file_list = os.listdir(csv_folder_path)\n",
    "\n",
    "# CSV 파일만 선택하여 읽어서 리스트에 저장\n",
    "csv_data_list = []\n",
    "for file_name in file_list:\n",
    "    if file_name.endswith(\".csv\"):\n",
    "        file_path = os.path.join(csv_folder_path, file_name)\n",
    "        csv_data = pd.read_csv(file_path)\n",
    "        csv_data_list.append(csv_data)"
   ]
  },
  {
   "cell_type": "markdown",
   "metadata": {},
   "source": [
    "- 중복되는 행 제거는 news_crawler에 포함되어 있음"
   ]
  },
  {
   "cell_type": "code",
   "execution_count": null,
   "metadata": {},
   "outputs": [],
   "source": [
    "# 중복되는 행 제거\n",
    "csv_cleaned = []\n",
    "for csv in csv_data_list:\n",
    "    csv_cleaned.append(csv.drop_duplicates())"
   ]
  },
  {
   "cell_type": "markdown",
   "metadata": {},
   "source": [
    "# 뉴스 본문 및 요약문 csv"
   ]
  },
  {
   "cell_type": "markdown",
   "metadata": {},
   "source": [
    "- Label을 달기 위해 전처리"
   ]
  },
  {
   "cell_type": "code",
   "execution_count": null,
   "metadata": {},
   "outputs": [],
   "source": [
    "# CSV 파일이 들어있는 폴더 경로\n",
    "csv_folder_path = \"../dataset/navernews/text\"\n",
    "\n",
    "# 폴더 내에 있는 모든 파일 목록 가져오기\n",
    "file_list = os.listdir(csv_folder_path)\n",
    "\n",
    "# CSV 파일만 선택하여 읽어서 리스트에 저장\n",
    "csv_data_list = []\n",
    "for file_name in file_list:\n",
    "    if file_name.endswith(\".csv\"):\n",
    "        file_path = os.path.join(csv_folder_path, file_name)\n",
    "        csv_data = pd.read_csv(file_path)\n",
    "        csv_data_list.append(csv_data)"
   ]
  },
  {
   "cell_type": "code",
   "execution_count": null,
   "metadata": {},
   "outputs": [],
   "source": [
    "def excluding_text(modified_text):\n",
    "    pattern1 = re.compile(r'\\s\\([^)]*\\)')\n",
    "    modified_text = re.sub(pattern1, ' ', modified_text)\n",
    "    pattern2 = re.compile(r'\\([^)]*\\)\\s')\n",
    "    modified_text = re.sub(pattern2, ' ', modified_text)\n",
    "    pattern3 = re.compile(r'\\([^)]*\\)') \n",
    "    modified_text = re.sub(pattern3, '', modified_text)\n",
    "    pattern4 = re.compile(r'\\[[^\\]]*\\]')\n",
    "    modified_text = re.sub(pattern4, '', modified_text)\n",
    "    return modified_text"
   ]
  },
  {
   "cell_type": "code",
   "execution_count": null,
   "metadata": {},
   "outputs": [],
   "source": [
    "def preprocessing_text(text):\n",
    "    modified_text = text.replace(\". \", \".\\n\")\n",
    "    modified_text = excluding_text(modified_text)\n",
    "    modified_text = modified_text.split(\"\\n\")\n",
    "    cleaned_sentences = []\n",
    "    for sentence in modified_text:\n",
    "        modified_sentence = re.sub(r'\\s\\s+', \" \", sentence)\n",
    "        modified_sentence = re.sub(r'“([^“”]+)”', r'\"\\1\"', modified_sentence)\n",
    "        modified_sentence = re.sub(r'‘([^‘’]+)’', r\"'\\1'\", modified_sentence)\n",
    "        modified_sentence = re.sub(r'[^\\w\\s.?!]', '', modified_sentence)\n",
    "        if modified_sentence.strip():\n",
    "            cleaned_sentences.append(modified_sentence.strip())\n",
    "    return cleaned_sentences\n",
    "\n",
    "def preprocessing_summary(text):\n",
    "    modified_texts = text.split(\"\\n\")\n",
    "    modified_texts = modified_texts[1:]\n",
    "    modified_text = []\n",
    "    for i, t in enumerate(modified_texts):\n",
    "        modified_texts[i] = t.replace(\". \", \".\\n\")\n",
    "    for i, t in enumerate(modified_texts):\n",
    "        for ts in t.split(\"\\n\"):\n",
    "            modified_text.append(ts)\n",
    "    modified_text = list(map(excluding_text, modified_text))\n",
    "    cleaned_sentences = []\n",
    "    for sentence in modified_text:\n",
    "        modified_sentence = re.sub(r'“([^“”]+)”', r'\"\\1\"', sentence)\n",
    "        modified_sentence = re.sub(r'‘([^‘’]+)’', r\"'\\1'\", modified_sentence)\n",
    "        modified_sentence = re.sub(r'[^\\w\\s.?!]', '', modified_sentence)\n",
    "        if modified_sentence.strip():\n",
    "            cleaned_sentences.append(modified_sentence)\n",
    "    return cleaned_sentences\n",
    "\n",
    "def add_label(row):\n",
    "    label = []\n",
    "    for idx, b in enumerate(row['body']):\n",
    "        if b in row['summary']:\n",
    "            label.append(idx)\n",
    "    return label\n"
   ]
  },
  {
   "cell_type": "code",
   "execution_count": null,
   "metadata": {},
   "outputs": [],
   "source": [
    "def test(i,j):\n",
    "    for id, k in enumerate(preprocessing_text(csv_data_list[i].iloc[j,0])):\n",
    "        print(id, k)\n",
    "    print(\"---\")\n",
    "    for id, m in enumerate(preprocessing_summary(csv_data_list[i].iloc[j,1])):\n",
    "        print(id, m)\n",
    "    label = []\n",
    "    for s, text in enumerate(preprocessing_text(csv_data_list[i].iloc[j,0])):\n",
    "        if text in preprocessing_summary(csv_data_list[i].iloc[j,1]):\n",
    "            label.append(s)\n",
    "    print(label)\n",
    "    return label"
   ]
  },
  {
   "cell_type": "markdown",
   "metadata": {},
   "source": [
    "- dataframe 합치기"
   ]
  },
  {
   "cell_type": "code",
   "execution_count": null,
   "metadata": {},
   "outputs": [],
   "source": [
    "new_df = pd.concat([df for df in csv_data_list], axis = 0, ignore_index=True)"
   ]
  },
  {
   "cell_type": "markdown",
   "metadata": {},
   "source": [
    "- drop na"
   ]
  },
  {
   "cell_type": "code",
   "execution_count": null,
   "metadata": {},
   "outputs": [],
   "source": [
    "preprocessed_df = new_df\n",
    "print(len(preprocessed_df))\n",
    "preprocessed_df = preprocessed_df.dropna()\n",
    "print(len(preprocessed_df))"
   ]
  },
  {
   "cell_type": "code",
   "execution_count": null,
   "metadata": {},
   "outputs": [],
   "source": [
    "preprocessed_df['body'] =  preprocessed_df['body'].apply(lambda x: preprocessing_text(x))\n",
    "preprocessed_df['summary'] = preprocessed_df['summary'].apply(lambda x: preprocessing_summary(x))\n",
    "preprocessed_df['label'] = preprocessed_df.apply(add_label, axis=1)"
   ]
  },
  {
   "cell_type": "markdown",
   "metadata": {},
   "source": [
    "- 1338개 기사 중 1039개가 정확히 label 3개\n",
    "- 이것만 사용"
   ]
  },
  {
   "cell_type": "code",
   "execution_count": null,
   "metadata": {},
   "outputs": [],
   "source": [
    "preprocessed_df['label'].map(len).value_counts()"
   ]
  },
  {
   "cell_type": "code",
   "execution_count": null,
   "metadata": {},
   "outputs": [],
   "source": [
    "preprocessed_df = preprocessed_df[preprocessed_df['label'].map(len) == 3]"
   ]
  },
  {
   "cell_type": "code",
   "execution_count": null,
   "metadata": {},
   "outputs": [],
   "source": [
    "preprocessed_df.to_csv(\"../dataset/navernews/train_data.csv\", index = False)"
   ]
  }
 ],
 "metadata": {
  "kernelspec": {
   "display_name": "nlp",
   "language": "python",
   "name": "python3"
  },
  "language_info": {
   "codemirror_mode": {
    "name": "ipython",
    "version": 3
   },
   "file_extension": ".py",
   "mimetype": "text/x-python",
   "name": "python",
   "nbconvert_exporter": "python",
   "pygments_lexer": "ipython3",
   "version": "3.8.17"
  },
  "orig_nbformat": 4
 },
 "nbformat": 4,
 "nbformat_minor": 2
}
