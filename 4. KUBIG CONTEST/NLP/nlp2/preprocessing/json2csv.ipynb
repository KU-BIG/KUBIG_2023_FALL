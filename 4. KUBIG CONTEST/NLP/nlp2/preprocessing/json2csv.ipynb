{
 "cells": [
  {
   "cell_type": "code",
   "execution_count": null,
   "metadata": {},
   "outputs": [],
   "source": [
    "import json\n",
    "from tqdm import tqdm\n",
    "import pandas as pd"
   ]
  },
  {
   "cell_type": "code",
   "execution_count": null,
   "metadata": {},
   "outputs": [],
   "source": [
    "train_file_path = \"문서요약 텍스트/Training/신문기사_train_original/train_original.json\" # 압축 풀어 진행\n",
    "valid_file_path = \"문서요약 텍스트/Validation/신문기사_valid_original/valid_original.json\""
   ]
  },
  {
   "cell_type": "code",
   "execution_count": null,
   "metadata": {},
   "outputs": [],
   "source": [
    "with open(train_file_path, \"r\", encoding=\"utf-8\") as json_file:\n",
    "    train_json = json.load(json_file)\n",
    "with open(valid_file_path, \"r\", encoding=\"utf-8\") as json_file:\n",
    "    valid_json = json.load(json_file)"
   ]
  },
  {
   "cell_type": "code",
   "execution_count": null,
   "metadata": {},
   "outputs": [],
   "source": [
    "def json2csv(data):\n",
    "    passage = []\n",
    "    passage_cls = []\n",
    "    extractive = []\n",
    "    for i in tqdm(range(len(data['documents']))):\n",
    "        psg = \"\"\n",
    "        psg_cls = \"\"\n",
    "        j = data['documents'][i]\n",
    "        for idx, text in enumerate(j['text']):\n",
    "            try:\n",
    "                psg = psg+ text[0]['sentence']\n",
    "                psg_cls = psg_cls + \" [CLS] \" + text[0]['sentence']\n",
    "            except:\n",
    "                pass\n",
    "        passage.append(psg)\n",
    "        passage_cls.append(psg_cls)\n",
    "        extractive.append(j['extractive'])\n",
    "    return pd.DataFrame({'passage':passage, 'passage_cls': passage_cls, 'extractive':extractive})"
   ]
  },
  {
   "cell_type": "code",
   "execution_count": null,
   "metadata": {},
   "outputs": [],
   "source": [
    "train = json2csv(train_json)\n",
    "valid = json2csv(valid_json)"
   ]
  },
  {
   "cell_type": "code",
   "execution_count": null,
   "metadata": {},
   "outputs": [],
   "source": [
    "train.to_csv(\"data/train.csv\", index = False)\n",
    "valid.to_csv(\"data/valid.csv\", index = False)"
   ]
  }
 ],
 "metadata": {
  "kernelspec": {
   "display_name": "base",
   "language": "python",
   "name": "python3"
  },
  "language_info": {
   "codemirror_mode": {
    "name": "ipython",
    "version": 3
   },
   "file_extension": ".py",
   "mimetype": "text/x-python",
   "name": "python",
   "nbconvert_exporter": "python",
   "pygments_lexer": "ipython3",
   "version": "3.8.17"
  },
  "orig_nbformat": 4
 },
 "nbformat": 4,
 "nbformat_minor": 2
}
