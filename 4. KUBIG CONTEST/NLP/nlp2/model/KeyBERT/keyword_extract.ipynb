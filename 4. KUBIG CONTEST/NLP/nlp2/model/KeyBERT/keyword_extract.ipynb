{
  "cells": [
    {
      "cell_type": "code",
      "execution_count": null,
      "metadata": {
        "id": "7nFnL9KF30ok"
      },
      "outputs": [],
      "source": [
        "# !pip install keybert\n",
        "# !pip install kiwipiepy"
      ]
    },
    {
      "cell_type": "code",
      "execution_count": null,
      "metadata": {
        "id": "Y-QOl5cIE425"
      },
      "outputs": [],
      "source": [
        "from keybert import KeyBERT\n",
        "from kiwipiepy import Kiwi\n",
        "from transformers import BertModel"
      ]
    },
    {
      "cell_type": "code",
      "execution_count": null,
      "metadata": {
        "id": "sAuRQK4rG9d0"
      },
      "outputs": [],
      "source": [
        "def noun_extractor(text):\n",
        "    results = []\n",
        "    result = kiwi.analyze(text)\n",
        "    for token, pos, _, _ in result[0][0]:\n",
        "        if len(token) != 1 and pos.startswith('N') or pos.startswith('SL'):\n",
        "            results.append(token)\n",
        "    return results"
      ]
    },
    {
      "cell_type": "code",
      "execution_count": null,
      "metadata": {
        "id": "f2y4zS-LFC6b"
      },
      "outputs": [],
      "source": [
        "model = BertModel.from_pretrained('skt/kobert-base-v1')\n",
        "kw_model = KeyBERT(model)"
      ]
    },
    {
      "cell_type": "code",
      "execution_count": null,
      "metadata": {
        "id": "7JmOhefHE7ie"
      },
      "outputs": [],
      "source": [
        "text=\"\"\"\n",
        "독일 오디오 기업인 젠하이저가 국내 시장에서 처음으로 사운드바 제품을 선보였다. 당초 스피커, 헤드폰을 중심으로 한국 시장을 공략했지만, 대형 TV 판매가 증가하면서 프리미엄 사운드바 시장까지 발을 넓혔다. 국내 사운드바 시장은 삼성전자와 LG전자가 격돌하고 있는 가운데 젠하이저는 고품질 오디오 기술력을 통해 승부수를 걸 생각이다.\n",
        "\n",
        "젠하이저는 24일 서울 중구 더플라자 호텔에서 기자간담회를 열고, 국내 첫 사운드바 제품인 '앰비오 사운드바 플러스(AMBEO Soundbar Plus)', '앰비오 서브우퍼(AMBEO SubWoofer)'를 공개했다.\n",
        "\n",
        "엠비오 사운드바는 돌비 애트모스(Dolby Atmos)와 DTS:X(Pro) 등 첨단 공간 음향 기술을 적용한 점이 특징이다. 젠하이저는 몰입형, 서라운드 음향을 구현하기 위해 제품 내부에 4개의 빌트인 마이크를 담았다. 이 4개의 마이크는 공간의 크기, 구조 등을 수집해 음향 환경을 자동으로 보정해 주는 '셀프-캘리브레이션(Self-calibration)' 기능, 11개의 가상 스피커를 생성하는 생성하는 '비주얼라이제이션(Visualization)' 기술을 보유하고 있다.\n",
        "\n",
        "엠비오 서브우퍼 또한 27Hz(헤르츠)에 달하는 극저음을 표현해 몰입감을 극대화한다. 서브우퍼에는 사운드바 제품과 조화를 이룰 수 있는 8인치의 '하이엔드 롱스로(High-end long-throw)' 우퍼를 적용했다.\n",
        "\n",
        "\n",
        "대형 TV 수요 확대…고품질 음향 기술로 공략\n",
        "젠하이저는 국내 사운드바 시장에 진출한 배경으로 대형 TV 판매량이 급증하고 있는 점을 꼽았다. 지난 2017년 한국에 법인을 세운 젠하이저는 스피커, 헤드폰 등의 제품을 중심으로 판매해왔다.\n",
        "\n",
        "하지만 최근 국내에서 대형 TV 판매가 증가하면서 젠하이저 또한 사운드바 시장을 새롭게 공략하기로 결정했다. 젠하이저에 따르면 올해 상반기 기준 삼성전자가 국내에서 판매한 TV의 약 30%는 85형 이상의 대형TV다.\n",
        "\n",
        "강호일 소노바컨슈머히어링코리아 이사는 \"지난해 국내 사운드바 시장은 42.5% 성장했고, 이 중 3D 사운드바 성장률은 60%를 넘어섰다\"며 \"특히 한국에서는 벽걸이 TV보다 스탠드형을 많이 사용해 젠하이저의 사운드바를 접목하기에 적합한 환경이라고 판단했다\"고 말했다.\n",
        "\n",
        "젠하이저가 24일 공개한 '앰비오 사운드바 플러스(AMBEO Soundbar Plus)'를 재생한 영상. (영상=윤아름 기자)\n",
        "현재 국내 사운드바 시장은 삼성전자, LG전자를 중심으로 구성돼 있다. 삼성전자는 2014년부터 지난해까지 9년 연속 글로벌 사운드바 점유율 1위를 차지하고 있으며, LG전자 또한 자사 OLED(유기발광다이오드) TV에 맞는 프리미엄 사운드바 제품을 잇따라 출시하며 시장 공략을 가속화하고 있다.\n",
        "\n",
        "이에 젠하이저는 자체 오디오 기술력을 활용해 프리미엄 시장을 공략할 계획이다. OLED TV, 대형 LCD(액정표시장치) TV 등프리미엄 제품을 구매하는 고객들의 경우 고품질 음향을 원하는 니즈도 발생할 것이란 계산이다.\n",
        "\n",
        "강 이사는 \"몰입감이 높고, 고급화된 TV를 선택하는 소비자들을 타팅 해 젠하이저의 사운드바 점유율을 높여갈 계획\"이라며 \"국내 시장에 다양한 사운드바 제품들이 나와있긴 하지만, (젠하이저 처럼) 최첨단 오디오 기술력으로 이처럼 몰입감 높은 음향을 제공할 수 있는 것은 엠비오가 유일할 것이며 그것이 가장 큰 차별 포인트\"라고 자신했다.\n",
        "\"\"\""
      ]
    },
    {
      "cell_type": "code",
      "execution_count": null,
      "metadata": {
        "id": "v86DH0tIHAww"
      },
      "outputs": [],
      "source": [
        "nouns = noun_extractor(text)\n",
        "text = ' '.join(nouns)\n",
        "keywords = kw_model.extract_keywords(text, keyphrase_ngram_range=(1, 1), stop_words=None, top_n=20)"
      ]
    },
    {
      "cell_type": "code",
      "execution_count": null,
      "metadata": {
        "colab": {
          "base_uri": "https://localhost:8080/"
        },
        "id": "smm9gXgCFka6",
        "outputId": "c16523a2-39d5-47ad-9cd3-e5055fcc4c3a"
      },
      "outputs": [],
      "source": [
        "print(keywords)"
      ]
    }
  ],
  "metadata": {
    "accelerator": "GPU",
    "colab": {
      "gpuType": "T4",
      "provenance": []
    },
    "kernelspec": {
      "display_name": "Python 3",
      "name": "python3"
    },
    "language_info": {
      "name": "python"
    }
  },
  "nbformat": 4,
  "nbformat_minor": 0
}
