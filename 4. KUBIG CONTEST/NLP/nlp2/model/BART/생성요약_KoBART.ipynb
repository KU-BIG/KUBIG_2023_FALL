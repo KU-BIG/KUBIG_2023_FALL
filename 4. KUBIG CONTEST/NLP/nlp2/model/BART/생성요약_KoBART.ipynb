{
  "cells": [
    {
      "cell_type": "code",
      "execution_count": null,
      "metadata": {
        "colab": {
          "base_uri": "https://localhost:8080/"
        },
        "id": "FKvit77AVHOz",
        "outputId": "1e2c04b8-c6b2-4dc1-d27f-e17d488ef507"
      },
      "outputs": [],
      "source": [
        "from google.colab import drive\n",
        "drive.mount('/content/drive')"
      ]
    },
    {
      "cell_type": "code",
      "execution_count": null,
      "metadata": {
        "id": "ePW8McA0VBZv"
      },
      "outputs": [],
      "source": [
        "import os\n",
        "import shutil\n",
        "from tqdm import tqdm\n",
        "import pandas as pd\n",
        "import numpy as np\n",
        "import matplotlib.pyplot as plt\n",
        "\n",
        "%matplotlib inline"
      ]
    },
    {
      "cell_type": "code",
      "execution_count": null,
      "metadata": {
        "colab": {
          "base_uri": "https://localhost:8080/"
        },
        "id": "rBBou3CdVEoi",
        "outputId": "ce46d5ce-2432-412a-8463-f85a545ed7c0"
      },
      "outputs": [],
      "source": [
        "%cd /content/drive/MyDrive/KoBART-summarization"
      ]
    },
    {
      "cell_type": "code",
      "execution_count": null,
      "metadata": {
        "colab": {
          "base_uri": "https://localhost:8080/"
        },
        "id": "g6_6-cUhVUQv",
        "outputId": "582ab55e-70c9-4c01-ebf4-bdb5e2f71522"
      },
      "outputs": [],
      "source": [
        "!pip install -r requirements.txt"
      ]
    },
    {
      "cell_type": "code",
      "execution_count": null,
      "metadata": {
        "colab": {
          "base_uri": "https://localhost:8080/"
        },
        "id": "kR8J-mjlVVk4",
        "outputId": "d79988a0-72c3-4f00-edb4-3d6eb39a472b"
      },
      "outputs": [],
      "source": [
        "!pip install torch==1.7.1+cu101 torchvision==0.8.2+cu101 -f https://download.pytorch.org/whl/torch_stable.html"
      ]
    },
    {
      "cell_type": "code",
      "execution_count": null,
      "metadata": {
        "colab": {
          "base_uri": "https://localhost:8080/"
        },
        "id": "HXsfqEEVVWRt",
        "outputId": "ab1da502-14e6-47f6-d4f8-b5820a64ba62"
      },
      "outputs": [],
      "source": [
        "!nvidia-smi"
      ]
    },
    {
      "cell_type": "code",
      "execution_count": null,
      "metadata": {
        "colab": {
          "base_uri": "https://localhost:8080/"
        },
        "id": "UYuIGXZ5WKZ5",
        "outputId": "482238aa-7882-4186-a6bd-1e51af526ec2"
      },
      "outputs": [],
      "source": [
        "!pip install torchtext==0.8.0"
      ]
    },
    {
      "cell_type": "code",
      "execution_count": null,
      "metadata": {
        "colab": {
          "base_uri": "https://localhost:8080/"
        },
        "id": "nRzL61o4WW3t",
        "outputId": "de2d804f-d700-4d0e-ca42-d077a7c720b2"
      },
      "outputs": [],
      "source": [
        "!pip install torchmetrics==0.6.0"
      ]
    },
    {
      "cell_type": "code",
      "execution_count": null,
      "metadata": {
        "colab": {
          "base_uri": "https://localhost:8080/"
        },
        "id": "UwT92ZBJWrH-",
        "outputId": "94785bc4-8e85-44e2-b845-bb03960f681d"
      },
      "outputs": [],
      "source": [
        "!pip install pytorch_lightning==1.5.2"
      ]
    },
    {
      "cell_type": "code",
      "execution_count": null,
      "metadata": {
        "id": "6-wzye9PXUkn"
      },
      "outputs": [],
      "source": [
        "import torch\n",
        "torch.cuda.empty_cache()"
      ]
    },
    {
      "cell_type": "code",
      "execution_count": null,
      "metadata": {
        "id": "E8wbVSpdZXAf"
      },
      "outputs": [],
      "source": [
        "## train"
      ]
    },
    {
      "cell_type": "code",
      "execution_count": null,
      "metadata": {
        "colab": {
          "base_uri": "https://localhost:8080/"
        },
        "id": "eBQYFkhHVcDJ",
        "outputId": "2b0145c0-d4f0-49e3-b580-e93732f35146"
      },
      "outputs": [],
      "source": [
        "!python train.py --gradient_clip_val 1.0 --max_epochs 10 --default_root_dir logs --gpus 1 --batch_size 8 --num_workers 4"
      ]
    },
    {
      "cell_type": "markdown",
      "metadata": {
        "id": "3IbYG0Zpw6Np"
      },
      "source": [
        "2 epoch 중간에 runtime 끊어짐"
      ]
    },
    {
      "cell_type": "code",
      "execution_count": null,
      "metadata": {
        "colab": {
          "base_uri": "https://localhost:8080/"
        },
        "id": "K3dhe4wPZTFb",
        "outputId": "79e12147-0ccc-43cd-f8b4-8bdf7fea5ad0"
      },
      "outputs": [],
      "source": [
        "!pip install pyyaml==5.4.1"
      ]
    },
    {
      "cell_type": "code",
      "execution_count": null,
      "metadata": {
        "colab": {
          "base_uri": "https://localhost:8080/"
        },
        "id": "ZcN89wiHWOs8",
        "outputId": "432d6306-5d72-4a0b-c0af-82af8539630a"
      },
      "outputs": [],
      "source": [
        "!python get_model_binary.py --hparams ./logs/tb_logs/default/version_4/hparams.yaml --model_binary ./logs/model_chp/epoch=01-val_loss=1.353.ckpt"
      ]
    },
    {
      "cell_type": "code",
      "execution_count": null,
      "metadata": {
        "id": "NhzoPagQZaYH"
      },
      "outputs": [],
      "source": [
        "## test"
      ]
    },
    {
      "cell_type": "code",
      "execution_count": null,
      "metadata": {
        "colab": {
          "base_uri": "https://localhost:8080/"
        },
        "id": "eLtdRw0MZU_b",
        "outputId": "c12c6f6a-a564-4f85-e93f-cc305227d5ec"
      },
      "outputs": [],
      "source": [
        "!pip install git+https://github.com/SKT-AI/KoBART#egg=kobart"
      ]
    },
    {
      "cell_type": "code",
      "execution_count": null,
      "metadata": {
        "id": "XHq3cIFNKvLg"
      },
      "outputs": [],
      "source": [
        "finance_data = pd.read_csv('/content/drive/MyDrive/2023_08_23.csv', encoding='utf-8')"
      ]
    },
    {
      "cell_type": "code",
      "execution_count": null,
      "metadata": {
        "colab": {
          "base_uri": "https://localhost:8080/",
          "height": 487
        },
        "id": "nzD_asMHPjE7",
        "outputId": "1e8b623c-87d9-4c0e-d6ef-1e5214d0f0b0"
      },
      "outputs": [],
      "source": [
        "finance_data['text'][13]"
      ]
    },
    {
      "cell_type": "code",
      "execution_count": null,
      "metadata": {
        "id": "6WllccMIOwH3"
      },
      "outputs": [],
      "source": [
        "import torch\n",
        "from transformers import PreTrainedTokenizerFast\n",
        "from transformers.models.bart import BartForConditionalGeneration\n",
        "\n",
        "model = BartForConditionalGeneration.from_pretrained('./kobart_summary')\n",
        "tokenizer = PreTrainedTokenizerFast.from_pretrained('gogamza/kobart-base-v1')\n",
        "\n",
        "summarization = []\n",
        "\n",
        "for i in range(len(finance_data['text'])):\n",
        "  text = finance_data['text'][i][:2200]\n",
        "  input_ids = tokenizer.encode(text)\n",
        "  input_ids = torch.tensor(input_ids)\n",
        "  input_ids = input_ids.unsqueeze(0)\n",
        "  output = model.generate(input_ids, eos_token_id=1, max_length=512, num_beams=5)\n",
        "  output = tokenizer.decode(output[0], skip_special_tokens=True)\n",
        "  summarization.append(output)"
      ]
    },
    {
      "cell_type": "code",
      "execution_count": null,
      "metadata": {
        "id": "fMuBpMcVSHWx"
      },
      "outputs": [],
      "source": [
        "dataframe = pd.DataFrame({\"url\": finance_data['url'], \"title\": finance_data['title'], \"text\": finance_data['text'],\"생성요약\": summarization})"
      ]
    },
    {
      "cell_type": "code",
      "execution_count": null,
      "metadata": {
        "colab": {
          "base_uri": "https://localhost:8080/",
          "height": 983
        },
        "id": "T1TRXCKRThZW",
        "outputId": "0ffb2627-ba97-41b6-f894-b004806de853"
      },
      "outputs": [],
      "source": [
        "dataframe"
      ]
    },
    {
      "cell_type": "code",
      "execution_count": null,
      "metadata": {
        "id": "xMKJ1swuSrIx"
      },
      "outputs": [],
      "source": [
        "dataframe.to_csv('/content/drive/MyDrive/2023_08_23_summarization.csv')"
      ]
    },
    {
      "cell_type": "code",
      "execution_count": null,
      "metadata": {
        "id": "506ZOJFstC4Z"
      },
      "outputs": [],
      "source": [
        "## external test dataset"
      ]
    },
    {
      "cell_type": "code",
      "execution_count": null,
      "metadata": {
        "colab": {
          "base_uri": "https://localhost:8080/",
          "height": 209
        },
        "id": "yAnDLks5K8Xy",
        "outputId": "c9689e2a-f5f9-45be-b728-1c315fc157c8"
      },
      "outputs": [],
      "source": [
        "finance_data['text'][0]"
      ]
    },
    {
      "cell_type": "code",
      "execution_count": null,
      "metadata": {
        "colab": {
          "base_uri": "https://localhost:8080/",
          "height": 35
        },
        "id": "9ZfGhNoYNjzi",
        "outputId": "17020d2d-0b42-435a-c5f1-9100297e89a6"
      },
      "outputs": [],
      "source": [
        "finance_data['title'][0]"
      ]
    },
    {
      "cell_type": "code",
      "execution_count": null,
      "metadata": {
        "colab": {
          "base_uri": "https://localhost:8080/"
        },
        "id": "n2AgCfo2vBLf",
        "outputId": "1c824951-289e-404f-acb1-5ad6ab6717bc"
      },
      "outputs": [],
      "source": [
        "import torch\n",
        "from transformers import PreTrainedTokenizerFast\n",
        "from transformers.models.bart import BartForConditionalGeneration\n",
        "\n",
        "model = BartForConditionalGeneration.from_pretrained('./kobart_summary')\n",
        "tokenizer = PreTrainedTokenizerFast.from_pretrained('gogamza/kobart-base-v1')\n",
        "\n",
        "text = input()\n",
        "\n",
        "if text:\n",
        "    input_ids = tokenizer.encode(text)\n",
        "    input_ids = torch.tensor(input_ids)\n",
        "    input_ids = input_ids.unsqueeze(0)\n",
        "    output = model.generate(input_ids, eos_token_id=1, max_length=512, num_beams=5)\n",
        "    output = tokenizer.decode(output[0], skip_special_tokens=True)\n",
        "    print(output)"
      ]
    },
    {
      "cell_type": "markdown",
      "metadata": {
        "id": "ZLkwA8lpNdR3"
      },
      "source": [
        "모델 출력: 제롬 파월 미 연방준비제도 의장이 잭슨 홀 미팅 연설에서 매파적인 모습을 보일 수 있다는 우려가 커지는 가운데, 유럽의 경기침체 가능성이 크게 높아지면서 미국 뉴욕증시의 주요 지수가 출발했다.\n",
        "\n",
        "제목: 잭슨 홀 리스크·유럽 침체우려에도 나스닥 소폭 상승 출발 [데일리 국제금융시장]"
      ]
    },
    {
      "cell_type": "code",
      "execution_count": null,
      "metadata": {
        "colab": {
          "base_uri": "https://localhost:8080/",
          "height": 139
        },
        "id": "HEJz61ufNv23",
        "outputId": "05e54a59-0f97-4dec-8af0-09538c671427"
      },
      "outputs": [],
      "source": [
        "finance_data['text'][1]"
      ]
    },
    {
      "cell_type": "code",
      "execution_count": null,
      "metadata": {
        "colab": {
          "base_uri": "https://localhost:8080/",
          "height": 35
        },
        "id": "4Wp62xopNyKQ",
        "outputId": "749d21d0-6ba7-4c97-8912-5802af9f3bc8"
      },
      "outputs": [],
      "source": [
        "finance_data['title'][1]"
      ]
    },
    {
      "cell_type": "code",
      "execution_count": null,
      "metadata": {
        "colab": {
          "base_uri": "https://localhost:8080/"
        },
        "id": "WyEYSbueNcWc",
        "outputId": "e2955d4c-2542-482d-9e72-6e39fbdca770"
      },
      "outputs": [],
      "source": [
        "import torch\n",
        "from transformers import PreTrainedTokenizerFast\n",
        "from transformers.models.bart import BartForConditionalGeneration\n",
        "\n",
        "model = BartForConditionalGeneration.from_pretrained('./kobart_summary')\n",
        "tokenizer = PreTrainedTokenizerFast.from_pretrained('gogamza/kobart-base-v1')\n",
        "\n",
        "text = input()\n",
        "\n",
        "if text:\n",
        "    input_ids = tokenizer.encode(text)\n",
        "    input_ids = torch.tensor(input_ids)\n",
        "    input_ids = input_ids.unsqueeze(0)\n",
        "    output = model.generate(input_ids, eos_token_id=1, max_length=512, num_beams=5)\n",
        "    output = tokenizer.decode(output[0], skip_special_tokens=True)\n",
        "    print(output)"
      ]
    },
    {
      "cell_type": "markdown",
      "metadata": {
        "id": "L_EXB-bMODDf"
      },
      "source": [
        "모델 출력: 일본 도쿄 주식시장에서 닛케이225지수는 전날 대비 341.75포인트(1.19%) 하락한 2만8452.75로 장을 마감했으며 중국 본토 상하이종합지수는 전장대비 1.57포인트(0.05%) 내려간 3276.22에, 대만 자취엔지수는 149.25포인트(0.98%) 내려간 1만5095.89에 마감했다.\n",
        "\n",
        "제목: [Asia마감] 긴축 공포에 짓눌린 시장…닛케이 1.19%↓"
      ]
    },
    {
      "cell_type": "code",
      "execution_count": null,
      "metadata": {
        "colab": {
          "base_uri": "https://localhost:8080/",
          "height": 400
        },
        "id": "0fuQ2MhrOIT0",
        "outputId": "713c1d23-0ddc-4883-95f9-4f88796ffda0"
      },
      "outputs": [],
      "source": [
        "finance_data['text'][2]"
      ]
    },
    {
      "cell_type": "code",
      "execution_count": null,
      "metadata": {
        "colab": {
          "base_uri": "https://localhost:8080/",
          "height": 35
        },
        "id": "PfMedyp0OIJF",
        "outputId": "4420e48e-1d40-44c9-d63d-644fbdf728c8"
      },
      "outputs": [],
      "source": [
        "finance_data['title'][2]"
      ]
    },
    {
      "cell_type": "code",
      "execution_count": null,
      "metadata": {
        "colab": {
          "base_uri": "https://localhost:8080/"
        },
        "id": "e6vApJr9vFom",
        "outputId": "1b45c081-0389-491e-f056-b1b9d0e27de6"
      },
      "outputs": [],
      "source": [
        "import torch\n",
        "from transformers import PreTrainedTokenizerFast\n",
        "from transformers.models.bart import BartForConditionalGeneration\n",
        "\n",
        "model = BartForConditionalGeneration.from_pretrained('./kobart_summary')\n",
        "tokenizer = PreTrainedTokenizerFast.from_pretrained('gogamza/kobart-base-v1')\n",
        "\n",
        "text = input()\n",
        "\n",
        "if text:\n",
        "    input_ids = tokenizer.encode(text)\n",
        "    input_ids = torch.tensor(input_ids)\n",
        "    input_ids = input_ids.unsqueeze(0)\n",
        "    output = model.generate(input_ids, eos_token_id=1, max_length=512, num_beams=5)\n",
        "    output = tokenizer.decode(output[0], skip_special_tokens=True)\n",
        "    print(output)"
      ]
    },
    {
      "cell_type": "code",
      "execution_count": null,
      "metadata": {
        "colab": {
          "base_uri": "https://localhost:8080/"
        },
        "id": "pEBFyqORvFmB",
        "outputId": "2c9d84dc-2e22-4f73-aa76-c34848055ff4"
      },
      "outputs": [],
      "source": [
        "import torch\n",
        "from transformers import PreTrainedTokenizerFast\n",
        "from transformers.models.bart import BartForConditionalGeneration\n",
        "\n",
        "model = BartForConditionalGeneration.from_pretrained('./kobart_summary')\n",
        "tokenizer = PreTrainedTokenizerFast.from_pretrained('gogamza/kobart-base-v1')\n",
        "\n",
        "text = input()\n",
        "\n",
        "if text:\n",
        "    input_ids = tokenizer.encode(text)\n",
        "    input_ids = torch.tensor(input_ids)\n",
        "    input_ids = input_ids.unsqueeze(0)\n",
        "    output = model.generate(input_ids, eos_token_id=1, max_length=512, num_beams=5)\n",
        "    output = tokenizer.decode(output[0], skip_special_tokens=True)\n",
        "    print(output)"
      ]
    },
    {
      "cell_type": "markdown",
      "metadata": {
        "id": "_1uEVLnkwlZ6"
      },
      "source": [
        "모델 출력: 윤석열 대통령에 이어 외환·금융당국도 구두개입에 나섰지만 1350원 턱 밑까지 차오른 원·달러 환율이 좀처럼 진정될 기미를 보이지 않고 있으며 외환당국 관계자는 23일 오전 9시22분께 \"최근 글로벌 달러 강세에 기인한 원달러 환율 상승 과정에서 투기적 요인이 있는지에 대해 면밀히 점검해 나갈 것\"이라고 말했다.\n",
        "\n",
        "정답: 尹에 이어 외환·금융당국 경고에도…고삐 풀린 환율"
      ]
    },
    {
      "cell_type": "code",
      "execution_count": null,
      "metadata": {
        "id": "4N1ukilswlFB"
      },
      "outputs": [],
      "source": []
    },
    {
      "cell_type": "code",
      "execution_count": null,
      "metadata": {
        "id": "WNkqiNb-wlCc"
      },
      "outputs": [],
      "source": [
        "## internal test dataset"
      ]
    },
    {
      "cell_type": "code",
      "execution_count": null,
      "metadata": {
        "colab": {
          "base_uri": "https://localhost:8080/"
        },
        "id": "5zDXSL4WZb5-",
        "outputId": "7be36dc5-a133-45d9-c06e-97c54d8e115b"
      },
      "outputs": [],
      "source": [
        "import torch\n",
        "from transformers import PreTrainedTokenizerFast\n",
        "from transformers.models.bart import BartForConditionalGeneration\n",
        "\n",
        "model = BartForConditionalGeneration.from_pretrained('./kobart_summary')\n",
        "tokenizer = PreTrainedTokenizerFast.from_pretrained('gogamza/kobart-base-v1')\n",
        "\n",
        "text = input()\n",
        "\n",
        "if text:\n",
        "    input_ids = tokenizer.encode(text)\n",
        "    input_ids = torch.tensor(input_ids)\n",
        "    input_ids = input_ids.unsqueeze(0)\n",
        "    output = model.generate(input_ids, eos_token_id=1, max_length=512, num_beams=5)\n",
        "    output = tokenizer.decode(output[0], skip_special_tokens=True)\n",
        "    print(output)"
      ]
    },
    {
      "cell_type": "markdown",
      "metadata": {
        "id": "NqySTHR6wTfx"
      },
      "source": [
        "모델 출력: 장애인으로 살던 손 씨는 팔 이식 수술 후 결혼에 골인했고 행복한 가정을 꾸려 새해 아빠가 된다.\n",
        "\n",
        "정답: 공장에서 일하다 왼쪽 팔을 잃은 그는 팔 이식 수술 후 결혼에 성공하여 아빠가 되는 꿈을 이루었다."
      ]
    },
    {
      "cell_type": "code",
      "execution_count": null,
      "metadata": {
        "id": "9TEmuvBKZfey"
      },
      "outputs": [],
      "source": []
    },
    {
      "cell_type": "code",
      "execution_count": null,
      "metadata": {
        "colab": {
          "base_uri": "https://localhost:8080/"
        },
        "id": "fUD-7CoRv9nk",
        "outputId": "954346c3-cd96-488c-923f-6e19c806eaaa"
      },
      "outputs": [],
      "source": [
        "import torch\n",
        "from transformers import PreTrainedTokenizerFast\n",
        "from transformers.models.bart import BartForConditionalGeneration\n",
        "\n",
        "model = BartForConditionalGeneration.from_pretrained('./kobart_summary')\n",
        "tokenizer = PreTrainedTokenizerFast.from_pretrained('gogamza/kobart-base-v1')\n",
        "\n",
        "text = input()\n",
        "\n",
        "if text:\n",
        "    input_ids = tokenizer.encode(text)\n",
        "    input_ids = torch.tensor(input_ids)\n",
        "    input_ids = input_ids.unsqueeze(0)\n",
        "    output = model.generate(input_ids, eos_token_id=1, max_length=512, num_beams=5)\n",
        "    output = tokenizer.decode(output[0], skip_special_tokens=True)\n",
        "    print(output)"
      ]
    },
    {
      "cell_type": "markdown",
      "metadata": {
        "id": "IHfIJwBlwJrm"
      },
      "source": [
        "모델 출력: 김 국무 국무위원장이 노동당 중앙위원회 전원회의 보고에서 조선민주주의인민공화국이 보유하게 될 새로운 전략무기를 목격하게 될 것이라고 말했다고 조선중앙통신이 1일 전했다.\n",
        "\n",
        "정답: 노동당 중앙위원회 전원회의 보고에서 북한의 김 국무위원장이 새로운 전략무기를 목격하게 될 것이라고 말해 전문가들은 전략무기를 3가지로 추측했다."
      ]
    },
    {
      "cell_type": "code",
      "execution_count": null,
      "metadata": {
        "id": "FCrs45orwjow"
      },
      "outputs": [],
      "source": []
    },
    {
      "cell_type": "code",
      "execution_count": null,
      "metadata": {
        "colab": {
          "base_uri": "https://localhost:8080/"
        },
        "id": "_P-NU78Nwjf4",
        "outputId": "da2acb7d-d8ce-4bc7-bcde-7a00ff22cbea"
      },
      "outputs": [],
      "source": [
        "import torch\n",
        "from transformers import PreTrainedTokenizerFast\n",
        "from transformers.models.bart import BartForConditionalGeneration\n",
        "\n",
        "model = BartForConditionalGeneration.from_pretrained('./kobart_summary')\n",
        "tokenizer = PreTrainedTokenizerFast.from_pretrained('gogamza/kobart-base-v1')\n",
        "\n",
        "text = input()\n",
        "\n",
        "if text:\n",
        "    input_ids = tokenizer.encode(text)\n",
        "    input_ids = torch.tensor(input_ids)\n",
        "    input_ids = input_ids.unsqueeze(0)\n",
        "    output = model.generate(input_ids, eos_token_id=1, max_length=512, num_beams=5)\n",
        "    output = tokenizer.decode(output[0], skip_special_tokens=True)\n",
        "    print(output)"
      ]
    },
    {
      "cell_type": "code",
      "execution_count": null,
      "metadata": {
        "id": "WpV2wcALwmRE"
      },
      "outputs": [],
      "source": []
    },
    {
      "cell_type": "markdown",
      "metadata": {
        "id": "MB2iyVA9wmdl"
      },
      "source": [
        "모델 출력: 신 의원은 경기 의왕시 내손로 건물에 선거사무소를 차리고 현수막을 걸었으며 다른 예비후보자 2명은 경기 의왕시 내손로 건물에 선거사무소를 차리고 현수막을 걸었다.\n",
        "\n",
        "정답: 총선에 도전하는 예비후보자들이 선거사무소를 차리고 현수막을 걸자 신 의원도 사람들에게 예비후보를 등록한 것을 보여주기 위해 나섰다."
      ]
    },
    {
      "cell_type": "code",
      "execution_count": null,
      "metadata": {
        "id": "Q419Wkn3aW0z"
      },
      "outputs": [],
      "source": [
        "## ref. https://younghwani.github.io/posts/kobart-summary-3/"
      ]
    }
  ],
  "metadata": {
    "accelerator": "GPU",
    "colab": {
      "provenance": []
    },
    "gpuClass": "standard",
    "kernelspec": {
      "display_name": "Python 3",
      "name": "python3"
    },
    "language_info": {
      "name": "python"
    }
  },
  "nbformat": 4,
  "nbformat_minor": 0
}
