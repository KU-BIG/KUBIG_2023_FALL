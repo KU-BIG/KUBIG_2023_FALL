{
  "cells": [
    {
      "cell_type": "code",
      "execution_count": null,
      "metadata": {
        "id": "1NRuTvWhTckI"
      },
      "outputs": [],
      "source": [
        "from selenium.webdriver.common.keys import Keys\n",
        "from selenium.webdriver.support.ui import WebDriverWait\n",
        "from selenium.webdriver.support import expected_conditions as EC\n",
        "from selenium.common.exceptions import TimeoutException\n",
        "from selenium.common.exceptions import NoSuchElementException\n",
        "from selenium.webdriver.common.by import By\n",
        "from selenium.webdriver.support.ui import Select\n",
        "import time"
      ]
    },
    {
      "cell_type": "code",
      "execution_count": null,
      "metadata": {
        "id": "CCwebE0NTckO"
      },
      "outputs": [],
      "source": [
        "import pandas as pd\n",
        "from bs4 import BeautifulSoup"
      ]
    },
    {
      "cell_type": "code",
      "execution_count": null,
      "metadata": {
        "id": "P_XA9UCgTckP",
        "outputId": "114e340e-d2ff-4efa-ef06-7ed0c7fe33a3"
      },
      "outputs": [],
      "source": [
        "from selenium import webdriver\n",
        "\n",
        "browser = webdriver.Chrome('C:/chromedriver.exe')\n",
        "\n",
        "browser.get('https://finance.naver.com/news/mainnews.naver?date=2023-08-23')"
      ]
    },
    {
      "cell_type": "code",
      "execution_count": null,
      "metadata": {
        "id": "bXhSVbShTckT"
      },
      "outputs": [],
      "source": [
        "url_list = []\n",
        "title_list = []\n",
        "text_list = []"
      ]
    },
    {
      "cell_type": "code",
      "execution_count": null,
      "metadata": {
        "id": "MyrEnLEfTckT",
        "outputId": "0e8eb104-c504-4013-a9ea-b96b8295008f"
      },
      "outputs": [],
      "source": [
        "i = 1\n",
        "flag = 0\n",
        "\n",
        "while True:\n",
        "    try:\n",
        "        path = \"//*[@id='contentarea_left']/div[2]/ul/li[\"+str(i)+\"]/dl/dd[1]/a\"\n",
        "        url = browser.find_element(By.XPATH,path).get_attribute('href')\n",
        "        url_list.append(url)\n",
        "\n",
        "        title = browser.find_element(By.XPATH,path).text\n",
        "        title_list.append(title)\n",
        "        i+=1\n",
        "        print('돌아감')\n",
        "\n",
        "    except :\n",
        "        path = \"//*[@id='contentarea_left']/div[2]/ul/li[\"+str(i)+\"]/dl/dt/a\"\n",
        "        url = browser.find_element(By.XPATH,path).get_attribute('href')\n",
        "        url_list.append(url)\n",
        "\n",
        "        title = browser.find_element(By.XPATH,path).text\n",
        "        title_list.append(title)\n",
        "        i+=1\n",
        "        print('돌아감')\n",
        "\n",
        "\n",
        "\n"
      ]
    },
    {
      "cell_type": "code",
      "execution_count": null,
      "metadata": {
        "id": "9aKlplLmTckV",
        "outputId": "36fe206c-5ada-4e52-dd42-6b7eaebf1e2b"
      },
      "outputs": [],
      "source": [
        "url_list"
      ]
    },
    {
      "cell_type": "code",
      "execution_count": null,
      "metadata": {
        "id": "yHeAGXxYTckW",
        "outputId": "1315af74-bd56-406e-8386-03316ea0def4"
      },
      "outputs": [],
      "source": [
        "title_list"
      ]
    },
    {
      "cell_type": "code",
      "execution_count": null,
      "metadata": {
        "id": "8ZVV156sTckX"
      },
      "outputs": [],
      "source": [
        "//*[@id=\"content\"]/text()[2]\n",
        "//*[@id=\"content\"]/text()[9]"
      ]
    },
    {
      "cell_type": "code",
      "execution_count": null,
      "metadata": {
        "id": "ud9Rcw1zTckY",
        "outputId": "cf9076c9-84f1-4d9d-ee59-0fd21b0ffab6"
      },
      "outputs": [],
      "source": [
        "for url in url_list:\n",
        "    wd = webdriver.Chrome('C:/chromedriver.exe')\n",
        "    wd.get(url)\n",
        "    req = wd.page_source\n",
        "    soup = BeautifulSoup(req, 'html.parser')\n",
        "\n",
        "    ul =soup.find('div',{\"class\":\"articleCont\"}).text\n",
        "    cleantext = BeautifulSoup(ul, \"lxml\").text\n",
        "    text_list.append(cleantext)"
      ]
    },
    {
      "cell_type": "code",
      "execution_count": null,
      "metadata": {
        "id": "_bSSH2DzTckZ",
        "outputId": "fddcfc38-6abb-4c22-961d-3c858150ff35"
      },
      "outputs": [],
      "source": [
        "len(text_list)"
      ]
    },
    {
      "cell_type": "code",
      "execution_count": null,
      "metadata": {
        "id": "z4Af03q5Tcka",
        "outputId": "74a37e1f-7706-4017-f833-f9031570ce33"
      },
      "outputs": [],
      "source": [
        "import pandas as pd\n",
        "raw = {'url':url_list,\n",
        "       'title':title_list,\n",
        "       'text':text_list}\n",
        "\n",
        "data=pd.DataFrame(raw)\n",
        "data.head()"
      ]
    },
    {
      "cell_type": "code",
      "execution_count": null,
      "metadata": {
        "id": "qgM__zY-Tckb"
      },
      "outputs": [],
      "source": [
        "data.to_csv('2023-08-23.csv',encoding='utf8',index=False)"
      ]
    }
  ],
  "metadata": {
    "colab": {
      "provenance": []
    },
    "interpreter": {
      "hash": "5be718a36ba95b1467e61ec2de95759690446b44afc99faaa23f773120d73ce1"
    },
    "kernelspec": {
      "display_name": "Python 3.8.5 64-bit",
      "language": "python",
      "name": "python3"
    },
    "language_info": {
      "codemirror_mode": {
        "name": "ipython",
        "version": 3
      },
      "file_extension": ".py",
      "mimetype": "text/x-python",
      "name": "python",
      "nbconvert_exporter": "python",
      "pygments_lexer": "ipython3",
      "version": "3.8.5"
    },
    "orig_nbformat": 4
  },
  "nbformat": 4,
  "nbformat_minor": 0
}
