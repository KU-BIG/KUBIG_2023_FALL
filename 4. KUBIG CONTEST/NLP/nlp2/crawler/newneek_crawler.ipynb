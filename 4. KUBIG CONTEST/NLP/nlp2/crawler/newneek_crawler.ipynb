{
 "cells": [
  {
   "attachments": {},
   "cell_type": "markdown",
   "metadata": {},
   "source": [
    "# 초기 설정"
   ]
  },
  {
   "attachments": {},
   "cell_type": "markdown",
   "metadata": {},
   "source": [
    "## 수집 앱 URL"
   ]
  },
  {
   "cell_type": "code",
   "execution_count": null,
   "metadata": {},
   "outputs": [],
   "source": [
    "URL = \"https://newneek.co/\""
   ]
  },
  {
   "attachments": {},
   "cell_type": "markdown",
   "metadata": {},
   "source": [
    "# 패키지 import"
   ]
  },
  {
   "cell_type": "code",
   "execution_count": null,
   "metadata": {},
   "outputs": [],
   "source": [
    "import requests\n",
    "from selenium import webdriver\n",
    "from selenium.webdriver.common.keys import Keys\n",
    "from selenium.webdriver.support.ui import WebDriverWait\n",
    "from selenium.webdriver.support import expected_conditions as EC\n",
    "from selenium.webdriver.common.by import By\n",
    "from selenium.webdriver.common.keys import Keys\n",
    "from bs4 import BeautifulSoup\n",
    "import time\n",
    "from time import sleep\n",
    "import random\n",
    "import pandas as pd"
   ]
  },
  {
   "cell_type": "code",
   "execution_count": null,
   "metadata": {},
   "outputs": [],
   "source": [
    "# anaconda python으로 interpreter 설정하기\n",
    "from selenium import webdriver\n",
    "from selenium.webdriver.chrome.service import Service as ChromeService\n",
    "from webdriver_manager.chrome import ChromeDriverManager\n"
   ]
  },
  {
   "attachments": {},
   "cell_type": "markdown",
   "metadata": {},
   "source": [
    "# 더보기 클릭"
   ]
  },
  {
   "cell_type": "code",
   "execution_count": null,
   "metadata": {},
   "outputs": [],
   "source": [
    "def more(modal):\n",
    "    "
   ]
  },
  {
   "cell_type": "code",
   "execution_count": null,
   "metadata": {},
   "outputs": [],
   "source": [
    "def scroll(modal):\n",
    "    try:        \n",
    "        # 스크롤 높이 받아오기\n",
    "        last_height = driver.execute_script(\"return arguments[0].scrollHeight\", modal)\n",
    "        while True:\n",
    "            pause_time = random.uniform(0.5, 0.8)\n",
    "            # 최하단까지 스크롤\n",
    "            driver.execute_script(\"arguments[0].scrollTo(0, arguments[0].scrollHeight);\", modal)\n",
    "            # 페이지 로딩 대기\n",
    "            time.sleep(pause_time)\n",
    "            # 무한 스크롤 동작을 위해 살짝 위로 스크롤\n",
    "            driver.execute_script(\"arguments[0].scrollTo(0, arguments[0].scrollHeight-50);\", modal)\n",
    "            time.sleep(pause_time)\n",
    "            # 스크롤 높이 새롭게 받아오기\n",
    "            new_height = driver.execute_script(\"return arguments[0].scrollHeight\", modal)\n",
    "            try:\n",
    "                # '더보기' 버튼 있을 경우 클릭\n",
    "                all_review_button = driver.find_element_by_xpath('/html/body/div[1]/div[4]/c-wiz/div/div[2]/div/div/main/div/div[1]/div[2]/div[2]/div/span/span').click()\n",
    "                driver.manage().timeouts().implicitlyWait(2000, TimeUnit.MILLISECONDS)\n",
    "                driver.manage().timeouts().pageLoadTimeout(40, TimeUnit.SECONDS)\n",
    "                driver.manage().timeouts().setScriptTimeout(60, TimeUnit.SECONDS)\n",
    "            except:\n",
    "                # 스크롤 완료 경우\n",
    "                if new_height == last_height:\n",
    "                    print(\"스크롤 완료\")\n",
    "                    break\n",
    "                last_height = new_height\n",
    "                \n",
    "    except Exception as e:\n",
    "        print(\"에러 발생: \", e)"
   ]
  },
  {
   "cell_type": "markdown",
   "metadata": {},
   "source": [
    "# 기사 클릭해서 page source 가져오기"
   ]
  },
  {
   "cell_type": "code",
   "execution_count": null,
   "metadata": {},
   "outputs": [],
   "source": []
  },
  {
   "attachments": {},
   "cell_type": "markdown",
   "metadata": {},
   "source": [
    "# 데이터 크롤링"
   ]
  },
  {
   "cell_type": "code",
   "execution_count": null,
   "metadata": {},
   "outputs": [],
   "source": [
    "driver = webdriver.Chrome(service=ChromeService(ChromeDriverManager().install()))\n",
    "driver.get(URL)\n",
    "wait = WebDriverWait(driver, 5)\n",
    "\n",
    "# 페이지 당 12개 리뷰 불러오기 (class가 card인 것 가져오기)\n",
    "\n",
    "# 페이지 렌더링 대기\n",
    "page_xpath = '/html/body/div/section'\n",
    "page_loading_wait = wait.until(EC.element_to_be_clickable((By.XPATH, page_xpath)))\n",
    "\n",
    "card_news = '/html/body/div/section/div/a[1]'\n",
    "card_news_button = driver.find_element(By.XPATH, card_news)\n",
    "card_news_button.click()\n",
    "time.sleep(1) \n",
    "driver.save_screenshot('AFTER.png')    \n",
    "# # 순서대로 들어가서 page source 가져오고 나오기\n",
    "\n",
    "# # 더보기 누르기\n",
    "# button_xpath = '/html/body/div/section/nav/button'\n",
    "# button_loading_wait = wait.until(EC.element_to_be_clickable((By.XPATH, button_xpath)))\n",
    "# # '더보기' 버튼 클릭\n",
    "# driver.find_element(By.XPATH,button_xpath).click()\n"
   ]
  },
  {
   "cell_type": "code",
   "execution_count": null,
   "metadata": {},
   "outputs": [],
   "source": [
    "driver = webdriver.Chrome()\n",
    "driver.get(URL)\n",
    "wait = WebDriverWait(driver, 5)\n",
    "\n",
    "while 1: \n",
    "    # 페이지 당 12개 리뷰 불러오기 (class가 card인 것 가져오기)\n",
    "    card_news = driver.find_element(By.CLASS_NAME, \"card\")\n",
    "    print(card_news)\n",
    "    # 순서대로 들어가서 page source 가져오고 나오기\n",
    "\n",
    "    # 더보기 누르기"
   ]
  },
  {
   "cell_type": "code",
   "execution_count": null,
   "metadata": {},
   "outputs": [],
   "source": [
    "driver = webdriver.Chrome()\n",
    "# 페이지 열기\n",
    "driver.get(URL)\n",
    "# 페이지 로딩 대기\n",
    "wait = WebDriverWait(driver, 5)\n",
    "\n",
    "# '리뷰 모두 보기' 버튼 렌더링 확인(path 수정 @2022-06-22)\n",
    "all_review_button_xpath = '/html/body/c-wiz[2]/div/div/div[1]/div[2]/div/div[1]/div[1]/c-wiz[4]/section/div/div/div[5]/div/div/button/span'\n",
    "button_loading_wait = wait.until(EC.element_to_be_clickable((By.XPATH, all_review_button_xpath)))\n",
    "# '리뷰 모두 보기' 버튼 클릭\n",
    "driver.find_element(By.XPATH,all_review_button_xpath).click()\n",
    "\n",
    "# '리뷰 모두 보기' 페이지 렌더링 대기\n",
    "all_review_page_xpath = '/html/body/div[4]/div[2]/div/div/div/div/div[2]'\n",
    "page_loading_wait = wait.until(EC.element_to_be_clickable((By.XPATH, all_review_page_xpath)))\n",
    "\n",
    "# 더보기 함수\n",
    "modal = WebDriverWait(driver, 2).until(EC.element_to_be_clickable((By.XPATH, \"//div[@class='fysCi']\")))\n",
    "scroll(modal)"
   ]
  },
  {
   "attachments": {},
   "cell_type": "markdown",
   "metadata": {},
   "source": [
    "# HTML Parsing"
   ]
  },
  {
   "cell_type": "code",
   "execution_count": null,
   "metadata": {},
   "outputs": [],
   "source": [
    "# html parsing하기\n",
    "html_source = driver.page_source\n",
    "soup_source = BeautifulSoup(html_source, 'html.parser')"
   ]
  },
  {
   "attachments": {},
   "cell_type": "markdown",
   "metadata": {},
   "source": [
    "# 크롬 드라이버 종료"
   ]
  },
  {
   "cell_type": "code",
   "execution_count": null,
   "metadata": {},
   "outputs": [],
   "source": [
    "driver.quit()"
   ]
  },
  {
   "attachments": {},
   "cell_type": "markdown",
   "metadata": {},
   "source": [
    "# HTML 데이터 저장"
   ]
  },
  {
   "cell_type": "code",
   "execution_count": null,
   "metadata": {},
   "outputs": [],
   "source": [
    "# html 데이터 저장\n",
    "with open(\"../dataset/korea_3.html\", \"w\", encoding = 'utf-8') as file: #이름 바꾸기\n",
    "    file.write(str(soup_source))"
   ]
  },
  {
   "attachments": {},
   "cell_type": "markdown",
   "metadata": {},
   "source": [
    "## 데이터프레임 변환"
   ]
  },
  {
   "cell_type": "code",
   "execution_count": null,
   "metadata": {},
   "outputs": [],
   "source": [
    "# 리뷰 데이터 클래스 접근\n",
    "review_source = soup_source.find_all(class_ = 'RHo1pe')\n",
    "# 리뷰 데이터 저장용 배열\n",
    "dataset = []\n",
    "# 데이터 넘버링을 위한 변수\n",
    "review_num = 0 \n",
    "# 리뷰 1개씩 접근해 정보 추출\n",
    "for review in review_source:\n",
    "    review_num+=1\n",
    "    # 리뷰 등록일 데이터 추출\n",
    "    date_full = review.find_all(class_ = 'bp9Aid')[0].text\n",
    "    date_year = date_full[0:4] # 연도 데이터 추출\n",
    "    # 해당 단어가 등장한 인덱스 추출\n",
    "    year_index = date_full.find('년')\n",
    "    month_index = date_full.find('월')\n",
    "    day_index = date_full.find('일')\n",
    "    \n",
    "    date_month = str(int(date_full[year_index+1:month_index])) # 월(Month) 데이터 추출\n",
    "    # 월 정보가 1자리의 경우 앞에 0 붙이기(e.g., 1월 -> 01월)\n",
    "    if len(date_month) == 1:\n",
    "        date_month = '0' + date_month\n",
    "    \n",
    "    date_day = str(int(date_full[month_index+1:day_index])) # 일(Day) 데이터 추출 \n",
    "    # 일 정보가 1자리의 경우 앞에 0 붙여줌(e.g., 7일 -> 07일)\n",
    "    if len(date_day) == 1:\n",
    "        date_day = '0' + date_day\n",
    "    \n",
    "    # 리뷰 등록일 full version은 최종적으로 yyyymmdd 형태로 저장\n",
    "    date_full = date_year + date_month + date_day\n",
    "    user_name = review.find_all(class_ = 'X5PpBb')[0].text # 닉네임 데이터 추출\n",
    "    rating = review.find_all(class_ = \"iXRFPc\")[0]['aria-label'][10] # 평점 데이터 추출\n",
    "    try:\n",
    "        content = review.find_all(class_ = 'h3YV2d')[0].text # 리뷰 데이터 추출\n",
    "    except:\n",
    "        content = ''\n",
    "    data = {\n",
    "        \"id\": review_num, \n",
    "        \"date\": date_full,\n",
    "        \"dateYear\": date_year,\n",
    "        \"dateMonth\": date_month,\n",
    "        \"dateDay\": date_day,\n",
    "        \"rating\": rating,\n",
    "        \"userName\": user_name,\n",
    "        \"content\": content\n",
    "    }\n",
    "    dataset.append(data)"
   ]
  },
  {
   "attachments": {},
   "cell_type": "markdown",
   "metadata": {},
   "source": [
    "## 데이터프레임 저장"
   ]
  },
  {
   "cell_type": "code",
   "execution_count": null,
   "metadata": {},
   "outputs": [],
   "source": [
    "df = pd.DataFrame(dataset)\n",
    "df.to_csv('../dataset/korea_dataset.csv', encoding = 'utf-8-sig') # csv 파일로 저장/ 이름 바꾸기"
   ]
  },
  {
   "attachments": {},
   "cell_type": "markdown",
   "metadata": {},
   "source": [
    "# 리뷰 데이터 불러오기"
   ]
  },
  {
   "cell_type": "code",
   "execution_count": null,
   "metadata": {
    "scrolled": true
   },
   "outputs": [],
   "source": [
    "# 저장한 리뷰 정보 불러오기\n",
    "df = pd.read_csv('../dataset/korea_dataset.csv', encoding = 'utf-8-sig') # 이름 바꾸기\n",
    "df = df.drop(['Unnamed: 0', 'id', 'date', 'dateMonth', 'dateDay', 'userName'], axis = 1) # 불필요한 칼럼 삭제\n",
    "df.to_csv('../dataset/korea_review.csv', encoding = 'utf-8-sig') # csv 파일로 저장/ 이름 바꾸기"
   ]
  },
  {
   "cell_type": "code",
   "execution_count": null,
   "metadata": {},
   "outputs": [],
   "source": []
  }
 ],
 "metadata": {
  "kernelspec": {
   "display_name": "Python 3",
   "language": "python",
   "name": "python3"
  },
  "language_info": {
   "codemirror_mode": {
    "name": "ipython",
    "version": 3
   },
   "file_extension": ".py",
   "mimetype": "text/x-python",
   "name": "python",
   "nbconvert_exporter": "python",
   "pygments_lexer": "ipython3",
   "version": "3.10.9"
  },
  "toc-autonumbering": true
 },
 "nbformat": 4,
 "nbformat_minor": 4
}
