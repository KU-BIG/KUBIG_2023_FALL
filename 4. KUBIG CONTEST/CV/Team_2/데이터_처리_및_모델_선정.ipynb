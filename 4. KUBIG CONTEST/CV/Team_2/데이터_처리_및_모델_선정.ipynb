{
  "nbformat": 4,
  "nbformat_minor": 0,
  "metadata": {
    "colab": {
      "provenance": []
    },
    "kernelspec": {
      "name": "python3",
      "display_name": "Python 3"
    },
    "language_info": {
      "name": "python"
    }
  },
  "cells": [
    {
      "cell_type": "markdown",
      "source": [
        "# 라이브러리 임포트 및 드라이브 마운트"
      ],
      "metadata": {
        "id": "okVD4QFXf9fI"
      }
    },
    {
      "cell_type": "code",
      "source": [
        "from google.colab import drive\n",
        "drive.mount('/content/gdrive')"
      ],
      "metadata": {
        "id": "uld8UoCqlB14",
        "colab": {
          "base_uri": "https://localhost:8080/"
        },
        "outputId": "64dabc59-19fa-416f-8cb7-7dd56332784c"
      },
      "execution_count": 1,
      "outputs": [
        {
          "output_type": "stream",
          "name": "stdout",
          "text": [
            "Mounted at /content/gdrive\n"
          ]
        }
      ]
    },
    {
      "cell_type": "code",
      "execution_count": 6,
      "metadata": {
        "id": "ssZOhe57kxgL"
      },
      "outputs": [],
      "source": [
        "import cv2\n",
        "import os\n",
        "from google.colab import files\n",
        "import pandas as pd\n",
        "import numpy as np\n",
        "\n",
        "import numpy as np\n",
        "from PIL import Image\n",
        "from urllib.request import urlopen\n",
        "import matplotlib.pyplot as plt\n",
        "from google.colab.patches import cv2_imshow"
      ]
    },
    {
      "cell_type": "markdown",
      "source": [
        "##Load npy file"
      ],
      "metadata": {
        "id": "UFvuH9x2VuTV"
      }
    },
    {
      "cell_type": "code",
      "source": [
        "keypoints = np.load(\"/content/gdrive/MyDrive/KUBIG/23_summer_CV/pose-estimation-project/keypoints.npy\", allow_pickle=True)\n",
        "labels = np.load(\"/content/gdrive/MyDrive/KUBIG/23_summer_CV/pose-estimation-project/labels.npy\", allow_pickle=True)"
      ],
      "metadata": {
        "id": "f-ePPF5uVtoo"
      },
      "execution_count": 3,
      "outputs": []
    },
    {
      "cell_type": "markdown",
      "source": [
        "# From keypoint to tabular data"
      ],
      "metadata": {
        "id": "cz6hEc_XgaBt"
      }
    },
    {
      "cell_type": "code",
      "source": [
        "def keypoint_flatten(keypoints, label):\n",
        "  columns = []\n",
        "\n",
        "  for i in range(25):\n",
        "    columns.extend([f'y{i}', f'x{i}'])\n",
        "  columns.append('label')\n",
        "  ml_data = pd.DataFrame(columns = columns)\n",
        "\n",
        "\n",
        "  for idx, keypoint in enumerate(keypoints):\n",
        "    flattend_data = []\n",
        "\n",
        "    try :\n",
        "      for i in keypoint[0]:\n",
        "        flattend_data.append(i[0])\n",
        "        flattend_data.append(i[1])\n",
        "      flattend_data.append(label[idx])\n",
        "      ml_data.loc[idx] = flattend_data\n",
        "    except :\n",
        "      pass\n",
        "  return ml_data"
      ],
      "metadata": {
        "id": "-ZkHRl5DqgUc"
      },
      "execution_count": 7,
      "outputs": []
    },
    {
      "cell_type": "code",
      "source": [
        "df = keypoint_flatten(keypoints, labels)"
      ],
      "metadata": {
        "id": "Gu3LKbiUrlXP"
      },
      "execution_count": 8,
      "outputs": []
    },
    {
      "cell_type": "markdown",
      "source": [
        "# 데이터 증강 by Flipping Keypoints"
      ],
      "metadata": {
        "id": "k3S9dKc8bnP3"
      }
    },
    {
      "cell_type": "code",
      "source": [
        "# 새로운 DataFrame 생성하여 추가할 데이터 저장\n",
        "augmented_data = []\n",
        "\n",
        "for idx, row in df.iterrows():\n",
        "    augmented_row = {}\n",
        "    for col_name, value in row.items():\n",
        "        if col_name.startswith('x'):\n",
        "            new_value = 1920 - value  # 1920에서 뺀 값으로 대체\n",
        "            augmented_row[col_name] = new_value\n",
        "        else:\n",
        "            augmented_row[col_name] = value\n",
        "    augmented_data.append(augmented_row)\n",
        "\n",
        "# 새로운 데이터를 포함한 DataFrame 생성\n",
        "augmented_df = pd.DataFrame(augmented_data)\n",
        "\n",
        "# 원래 데이터와 확장된 데이터 결합\n",
        "final_df = pd.concat([df, augmented_df], ignore_index=True)\n"
      ],
      "metadata": {
        "id": "OjbRVy6vZhfO"
      },
      "execution_count": 9,
      "outputs": []
    },
    {
      "cell_type": "markdown",
      "source": [
        "# standardization"
      ],
      "metadata": {
        "id": "TN2c4P4kPBaX"
      }
    },
    {
      "cell_type": "code",
      "source": [
        "standardized_df = final_df.copy()\n",
        "\n",
        "def standardization(value, mean, std):\n",
        "  return (value - mean) / std\n",
        "\n",
        "for idx, row in standardized_df.iterrows():\n",
        "    x_coord = []\n",
        "    y_coord = []\n",
        "    for col_name, value in row.items():\n",
        "        if col_name.startswith('x'):\n",
        "          x_coord.append(value)\n",
        "        elif col_name.startswith('y'):\n",
        "          y_coord.append(value)\n",
        "\n",
        "    x_mean = np.array(x_coord).mean()\n",
        "    x_std = np.array(x_coord).std()\n",
        "    y_mean = np.array(y_coord).mean()\n",
        "    y_std = np.array(y_coord).std()\n",
        "\n",
        "    for col_name, value in row.items():\n",
        "        if col_name.startswith('x'):\n",
        "          standardized_df.loc[idx, col_name] = standardization(value, x_mean, x_std)\n",
        "        elif col_name.startswith('y'):\n",
        "          standardized_df.loc[idx, col_name] = standardization(value, y_mean, y_std)\n",
        "\n",
        "standardized_df[:5]"
      ],
      "metadata": {
        "colab": {
          "base_uri": "https://localhost:8080/",
          "height": 256
        },
        "id": "ONcnXM3WPAyV",
        "outputId": "1fb305a3-3eff-486b-d6f5-9b89b18767b7"
      },
      "execution_count": 10,
      "outputs": [
        {
          "output_type": "execute_result",
          "data": {
            "text/plain": [
              "         y0        x0        y1        x1        y2        x2        y3  \\\n",
              "0 -1.211710 -0.084188 -1.273957  0.292913 -1.278465 -0.404937 -1.250055   \n",
              "1 -1.229617 -0.876085 -1.280594 -0.789579 -1.283216 -0.837689 -1.249739   \n",
              "2 -1.223080 -0.091482 -1.283774  0.267598 -1.282121 -0.461548 -1.270756   \n",
              "3 -1.244221 -0.738662 -1.294174 -0.586785 -1.299885 -0.698386 -1.261048   \n",
              "4 -1.229815 -0.046309 -1.288162  0.285960 -1.285892 -0.375895 -1.269560   \n",
              "\n",
              "         x3        y4        x4  ...       x20       y21       x21       y22  \\\n",
              "0  0.818830 -1.259836 -0.874990  ...  0.819882  1.361415  0.474975  1.148089   \n",
              "1 -0.399690 -1.266595 -0.083295  ... -0.739517  1.340933  0.114045  1.225158   \n",
              "2  0.805753 -1.270191 -1.026884  ...  0.874417  1.348272  0.543388  1.169636   \n",
              "3 -0.019007 -1.263030 -0.087514  ... -1.150055  1.346590 -0.074402  1.202012   \n",
              "4  0.764366 -1.263482 -0.878845  ...  0.800977  1.336187  0.507166  1.168678   \n",
              "\n",
              "        x22       y23       x23       y24       x24  label  \n",
              "0 -0.759188  1.111227 -1.109168  1.014218 -0.625431    0.0  \n",
              "1  1.167877  1.196825  1.233221  1.183299  2.159367    0.0  \n",
              "2 -0.758669  1.139483 -1.162166  1.039530 -0.803478    0.0  \n",
              "3  0.816008  1.173670  0.879507  1.189782  1.935486    0.0  \n",
              "4 -0.920245  1.138770 -1.293106  1.040810 -0.741703    0.0  \n",
              "\n",
              "[5 rows x 51 columns]"
            ],
            "text/html": [
              "\n",
              "  <div id=\"df-f4c1e420-4b35-4a60-9101-7f25855ee06b\" class=\"colab-df-container\">\n",
              "    <div>\n",
              "<style scoped>\n",
              "    .dataframe tbody tr th:only-of-type {\n",
              "        vertical-align: middle;\n",
              "    }\n",
              "\n",
              "    .dataframe tbody tr th {\n",
              "        vertical-align: top;\n",
              "    }\n",
              "\n",
              "    .dataframe thead th {\n",
              "        text-align: right;\n",
              "    }\n",
              "</style>\n",
              "<table border=\"1\" class=\"dataframe\">\n",
              "  <thead>\n",
              "    <tr style=\"text-align: right;\">\n",
              "      <th></th>\n",
              "      <th>y0</th>\n",
              "      <th>x0</th>\n",
              "      <th>y1</th>\n",
              "      <th>x1</th>\n",
              "      <th>y2</th>\n",
              "      <th>x2</th>\n",
              "      <th>y3</th>\n",
              "      <th>x3</th>\n",
              "      <th>y4</th>\n",
              "      <th>x4</th>\n",
              "      <th>...</th>\n",
              "      <th>x20</th>\n",
              "      <th>y21</th>\n",
              "      <th>x21</th>\n",
              "      <th>y22</th>\n",
              "      <th>x22</th>\n",
              "      <th>y23</th>\n",
              "      <th>x23</th>\n",
              "      <th>y24</th>\n",
              "      <th>x24</th>\n",
              "      <th>label</th>\n",
              "    </tr>\n",
              "  </thead>\n",
              "  <tbody>\n",
              "    <tr>\n",
              "      <th>0</th>\n",
              "      <td>-1.211710</td>\n",
              "      <td>-0.084188</td>\n",
              "      <td>-1.273957</td>\n",
              "      <td>0.292913</td>\n",
              "      <td>-1.278465</td>\n",
              "      <td>-0.404937</td>\n",
              "      <td>-1.250055</td>\n",
              "      <td>0.818830</td>\n",
              "      <td>-1.259836</td>\n",
              "      <td>-0.874990</td>\n",
              "      <td>...</td>\n",
              "      <td>0.819882</td>\n",
              "      <td>1.361415</td>\n",
              "      <td>0.474975</td>\n",
              "      <td>1.148089</td>\n",
              "      <td>-0.759188</td>\n",
              "      <td>1.111227</td>\n",
              "      <td>-1.109168</td>\n",
              "      <td>1.014218</td>\n",
              "      <td>-0.625431</td>\n",
              "      <td>0.0</td>\n",
              "    </tr>\n",
              "    <tr>\n",
              "      <th>1</th>\n",
              "      <td>-1.229617</td>\n",
              "      <td>-0.876085</td>\n",
              "      <td>-1.280594</td>\n",
              "      <td>-0.789579</td>\n",
              "      <td>-1.283216</td>\n",
              "      <td>-0.837689</td>\n",
              "      <td>-1.249739</td>\n",
              "      <td>-0.399690</td>\n",
              "      <td>-1.266595</td>\n",
              "      <td>-0.083295</td>\n",
              "      <td>...</td>\n",
              "      <td>-0.739517</td>\n",
              "      <td>1.340933</td>\n",
              "      <td>0.114045</td>\n",
              "      <td>1.225158</td>\n",
              "      <td>1.167877</td>\n",
              "      <td>1.196825</td>\n",
              "      <td>1.233221</td>\n",
              "      <td>1.183299</td>\n",
              "      <td>2.159367</td>\n",
              "      <td>0.0</td>\n",
              "    </tr>\n",
              "    <tr>\n",
              "      <th>2</th>\n",
              "      <td>-1.223080</td>\n",
              "      <td>-0.091482</td>\n",
              "      <td>-1.283774</td>\n",
              "      <td>0.267598</td>\n",
              "      <td>-1.282121</td>\n",
              "      <td>-0.461548</td>\n",
              "      <td>-1.270756</td>\n",
              "      <td>0.805753</td>\n",
              "      <td>-1.270191</td>\n",
              "      <td>-1.026884</td>\n",
              "      <td>...</td>\n",
              "      <td>0.874417</td>\n",
              "      <td>1.348272</td>\n",
              "      <td>0.543388</td>\n",
              "      <td>1.169636</td>\n",
              "      <td>-0.758669</td>\n",
              "      <td>1.139483</td>\n",
              "      <td>-1.162166</td>\n",
              "      <td>1.039530</td>\n",
              "      <td>-0.803478</td>\n",
              "      <td>0.0</td>\n",
              "    </tr>\n",
              "    <tr>\n",
              "      <th>3</th>\n",
              "      <td>-1.244221</td>\n",
              "      <td>-0.738662</td>\n",
              "      <td>-1.294174</td>\n",
              "      <td>-0.586785</td>\n",
              "      <td>-1.299885</td>\n",
              "      <td>-0.698386</td>\n",
              "      <td>-1.261048</td>\n",
              "      <td>-0.019007</td>\n",
              "      <td>-1.263030</td>\n",
              "      <td>-0.087514</td>\n",
              "      <td>...</td>\n",
              "      <td>-1.150055</td>\n",
              "      <td>1.346590</td>\n",
              "      <td>-0.074402</td>\n",
              "      <td>1.202012</td>\n",
              "      <td>0.816008</td>\n",
              "      <td>1.173670</td>\n",
              "      <td>0.879507</td>\n",
              "      <td>1.189782</td>\n",
              "      <td>1.935486</td>\n",
              "      <td>0.0</td>\n",
              "    </tr>\n",
              "    <tr>\n",
              "      <th>4</th>\n",
              "      <td>-1.229815</td>\n",
              "      <td>-0.046309</td>\n",
              "      <td>-1.288162</td>\n",
              "      <td>0.285960</td>\n",
              "      <td>-1.285892</td>\n",
              "      <td>-0.375895</td>\n",
              "      <td>-1.269560</td>\n",
              "      <td>0.764366</td>\n",
              "      <td>-1.263482</td>\n",
              "      <td>-0.878845</td>\n",
              "      <td>...</td>\n",
              "      <td>0.800977</td>\n",
              "      <td>1.336187</td>\n",
              "      <td>0.507166</td>\n",
              "      <td>1.168678</td>\n",
              "      <td>-0.920245</td>\n",
              "      <td>1.138770</td>\n",
              "      <td>-1.293106</td>\n",
              "      <td>1.040810</td>\n",
              "      <td>-0.741703</td>\n",
              "      <td>0.0</td>\n",
              "    </tr>\n",
              "  </tbody>\n",
              "</table>\n",
              "<p>5 rows × 51 columns</p>\n",
              "</div>\n",
              "    <div class=\"colab-df-buttons\">\n",
              "\n",
              "  <div class=\"colab-df-container\">\n",
              "    <button class=\"colab-df-convert\" onclick=\"convertToInteractive('df-f4c1e420-4b35-4a60-9101-7f25855ee06b')\"\n",
              "            title=\"Convert this dataframe to an interactive table.\"\n",
              "            style=\"display:none;\">\n",
              "\n",
              "  <svg xmlns=\"http://www.w3.org/2000/svg\" height=\"24px\" viewBox=\"0 -960 960 960\">\n",
              "    <path d=\"M120-120v-720h720v720H120Zm60-500h600v-160H180v160Zm220 220h160v-160H400v160Zm0 220h160v-160H400v160ZM180-400h160v-160H180v160Zm440 0h160v-160H620v160ZM180-180h160v-160H180v160Zm440 0h160v-160H620v160Z\"/>\n",
              "  </svg>\n",
              "    </button>\n",
              "\n",
              "  <style>\n",
              "    .colab-df-container {\n",
              "      display:flex;\n",
              "      gap: 12px;\n",
              "    }\n",
              "\n",
              "    .colab-df-convert {\n",
              "      background-color: #E8F0FE;\n",
              "      border: none;\n",
              "      border-radius: 50%;\n",
              "      cursor: pointer;\n",
              "      display: none;\n",
              "      fill: #1967D2;\n",
              "      height: 32px;\n",
              "      padding: 0 0 0 0;\n",
              "      width: 32px;\n",
              "    }\n",
              "\n",
              "    .colab-df-convert:hover {\n",
              "      background-color: #E2EBFA;\n",
              "      box-shadow: 0px 1px 2px rgba(60, 64, 67, 0.3), 0px 1px 3px 1px rgba(60, 64, 67, 0.15);\n",
              "      fill: #174EA6;\n",
              "    }\n",
              "\n",
              "    .colab-df-buttons div {\n",
              "      margin-bottom: 4px;\n",
              "    }\n",
              "\n",
              "    [theme=dark] .colab-df-convert {\n",
              "      background-color: #3B4455;\n",
              "      fill: #D2E3FC;\n",
              "    }\n",
              "\n",
              "    [theme=dark] .colab-df-convert:hover {\n",
              "      background-color: #434B5C;\n",
              "      box-shadow: 0px 1px 3px 1px rgba(0, 0, 0, 0.15);\n",
              "      filter: drop-shadow(0px 1px 2px rgba(0, 0, 0, 0.3));\n",
              "      fill: #FFFFFF;\n",
              "    }\n",
              "  </style>\n",
              "\n",
              "    <script>\n",
              "      const buttonEl =\n",
              "        document.querySelector('#df-f4c1e420-4b35-4a60-9101-7f25855ee06b button.colab-df-convert');\n",
              "      buttonEl.style.display =\n",
              "        google.colab.kernel.accessAllowed ? 'block' : 'none';\n",
              "\n",
              "      async function convertToInteractive(key) {\n",
              "        const element = document.querySelector('#df-f4c1e420-4b35-4a60-9101-7f25855ee06b');\n",
              "        const dataTable =\n",
              "          await google.colab.kernel.invokeFunction('convertToInteractive',\n",
              "                                                    [key], {});\n",
              "        if (!dataTable) return;\n",
              "\n",
              "        const docLinkHtml = 'Like what you see? Visit the ' +\n",
              "          '<a target=\"_blank\" href=https://colab.research.google.com/notebooks/data_table.ipynb>data table notebook</a>'\n",
              "          + ' to learn more about interactive tables.';\n",
              "        element.innerHTML = '';\n",
              "        dataTable['output_type'] = 'display_data';\n",
              "        await google.colab.output.renderOutput(dataTable, element);\n",
              "        const docLink = document.createElement('div');\n",
              "        docLink.innerHTML = docLinkHtml;\n",
              "        element.appendChild(docLink);\n",
              "      }\n",
              "    </script>\n",
              "  </div>\n",
              "\n",
              "\n",
              "<div id=\"df-78ce8f34-bac9-41c3-92cc-a57eca643ad3\">\n",
              "  <button class=\"colab-df-quickchart\" onclick=\"quickchart('df-78ce8f34-bac9-41c3-92cc-a57eca643ad3')\"\n",
              "            title=\"Suggest charts.\"\n",
              "            style=\"display:none;\">\n",
              "\n",
              "<svg xmlns=\"http://www.w3.org/2000/svg\" height=\"24px\"viewBox=\"0 0 24 24\"\n",
              "     width=\"24px\">\n",
              "    <g>\n",
              "        <path d=\"M19 3H5c-1.1 0-2 .9-2 2v14c0 1.1.9 2 2 2h14c1.1 0 2-.9 2-2V5c0-1.1-.9-2-2-2zM9 17H7v-7h2v7zm4 0h-2V7h2v10zm4 0h-2v-4h2v4z\"/>\n",
              "    </g>\n",
              "</svg>\n",
              "  </button>\n",
              "\n",
              "<style>\n",
              "  .colab-df-quickchart {\n",
              "    background-color: #E8F0FE;\n",
              "    border: none;\n",
              "    border-radius: 50%;\n",
              "    cursor: pointer;\n",
              "    display: none;\n",
              "    fill: #1967D2;\n",
              "    height: 32px;\n",
              "    padding: 0 0 0 0;\n",
              "    width: 32px;\n",
              "  }\n",
              "\n",
              "  .colab-df-quickchart:hover {\n",
              "    background-color: #E2EBFA;\n",
              "    box-shadow: 0px 1px 2px rgba(60, 64, 67, 0.3), 0px 1px 3px 1px rgba(60, 64, 67, 0.15);\n",
              "    fill: #174EA6;\n",
              "  }\n",
              "\n",
              "  [theme=dark] .colab-df-quickchart {\n",
              "    background-color: #3B4455;\n",
              "    fill: #D2E3FC;\n",
              "  }\n",
              "\n",
              "  [theme=dark] .colab-df-quickchart:hover {\n",
              "    background-color: #434B5C;\n",
              "    box-shadow: 0px 1px 3px 1px rgba(0, 0, 0, 0.15);\n",
              "    filter: drop-shadow(0px 1px 2px rgba(0, 0, 0, 0.3));\n",
              "    fill: #FFFFFF;\n",
              "  }\n",
              "</style>\n",
              "\n",
              "  <script>\n",
              "    async function quickchart(key) {\n",
              "      const charts = await google.colab.kernel.invokeFunction(\n",
              "          'suggestCharts', [key], {});\n",
              "    }\n",
              "    (() => {\n",
              "      let quickchartButtonEl =\n",
              "        document.querySelector('#df-78ce8f34-bac9-41c3-92cc-a57eca643ad3 button');\n",
              "      quickchartButtonEl.style.display =\n",
              "        google.colab.kernel.accessAllowed ? 'block' : 'none';\n",
              "    })();\n",
              "  </script>\n",
              "</div>\n",
              "    </div>\n",
              "  </div>\n"
            ]
          },
          "metadata": {},
          "execution_count": 10
        }
      ]
    },
    {
      "cell_type": "code",
      "source": [
        "x = standardized_df.drop(columns = 'label')\n",
        "y = standardized_df['label']"
      ],
      "metadata": {
        "id": "uPRMkVWhVS4H"
      },
      "execution_count": 11,
      "outputs": []
    },
    {
      "cell_type": "markdown",
      "source": [
        "# Final Model : RandomForest(ML) -> with tabular data"
      ],
      "metadata": {
        "id": "YUq_XuRopHJP"
      }
    },
    {
      "cell_type": "code",
      "source": [
        "from sklearn.model_selection import train_test_split\n",
        "train_x, valid_x, train_y, valid_y = train_test_split(x, y, stratify = y, test_size = 0.15, random_state = 42)"
      ],
      "metadata": {
        "id": "5brstC-eu83n"
      },
      "execution_count": 12,
      "outputs": []
    },
    {
      "cell_type": "code",
      "source": [
        "from sklearn.ensemble import RandomForestClassifier\n",
        "model = RandomForestClassifier()"
      ],
      "metadata": {
        "id": "H4KUcl0SkMI3"
      },
      "execution_count": 13,
      "outputs": []
    },
    {
      "cell_type": "code",
      "source": [
        "model.fit(train_x, train_y)"
      ],
      "metadata": {
        "id": "UG6pF0LgliDV",
        "colab": {
          "base_uri": "https://localhost:8080/",
          "height": 75
        },
        "outputId": "dbb70900-19a3-4aa7-88d5-bd95827c997b"
      },
      "execution_count": 14,
      "outputs": [
        {
          "output_type": "execute_result",
          "data": {
            "text/plain": [
              "RandomForestClassifier()"
            ],
            "text/html": [
              "<style>#sk-container-id-1 {color: black;background-color: white;}#sk-container-id-1 pre{padding: 0;}#sk-container-id-1 div.sk-toggleable {background-color: white;}#sk-container-id-1 label.sk-toggleable__label {cursor: pointer;display: block;width: 100%;margin-bottom: 0;padding: 0.3em;box-sizing: border-box;text-align: center;}#sk-container-id-1 label.sk-toggleable__label-arrow:before {content: \"▸\";float: left;margin-right: 0.25em;color: #696969;}#sk-container-id-1 label.sk-toggleable__label-arrow:hover:before {color: black;}#sk-container-id-1 div.sk-estimator:hover label.sk-toggleable__label-arrow:before {color: black;}#sk-container-id-1 div.sk-toggleable__content {max-height: 0;max-width: 0;overflow: hidden;text-align: left;background-color: #f0f8ff;}#sk-container-id-1 div.sk-toggleable__content pre {margin: 0.2em;color: black;border-radius: 0.25em;background-color: #f0f8ff;}#sk-container-id-1 input.sk-toggleable__control:checked~div.sk-toggleable__content {max-height: 200px;max-width: 100%;overflow: auto;}#sk-container-id-1 input.sk-toggleable__control:checked~label.sk-toggleable__label-arrow:before {content: \"▾\";}#sk-container-id-1 div.sk-estimator input.sk-toggleable__control:checked~label.sk-toggleable__label {background-color: #d4ebff;}#sk-container-id-1 div.sk-label input.sk-toggleable__control:checked~label.sk-toggleable__label {background-color: #d4ebff;}#sk-container-id-1 input.sk-hidden--visually {border: 0;clip: rect(1px 1px 1px 1px);clip: rect(1px, 1px, 1px, 1px);height: 1px;margin: -1px;overflow: hidden;padding: 0;position: absolute;width: 1px;}#sk-container-id-1 div.sk-estimator {font-family: monospace;background-color: #f0f8ff;border: 1px dotted black;border-radius: 0.25em;box-sizing: border-box;margin-bottom: 0.5em;}#sk-container-id-1 div.sk-estimator:hover {background-color: #d4ebff;}#sk-container-id-1 div.sk-parallel-item::after {content: \"\";width: 100%;border-bottom: 1px solid gray;flex-grow: 1;}#sk-container-id-1 div.sk-label:hover label.sk-toggleable__label {background-color: #d4ebff;}#sk-container-id-1 div.sk-serial::before {content: \"\";position: absolute;border-left: 1px solid gray;box-sizing: border-box;top: 0;bottom: 0;left: 50%;z-index: 0;}#sk-container-id-1 div.sk-serial {display: flex;flex-direction: column;align-items: center;background-color: white;padding-right: 0.2em;padding-left: 0.2em;position: relative;}#sk-container-id-1 div.sk-item {position: relative;z-index: 1;}#sk-container-id-1 div.sk-parallel {display: flex;align-items: stretch;justify-content: center;background-color: white;position: relative;}#sk-container-id-1 div.sk-item::before, #sk-container-id-1 div.sk-parallel-item::before {content: \"\";position: absolute;border-left: 1px solid gray;box-sizing: border-box;top: 0;bottom: 0;left: 50%;z-index: -1;}#sk-container-id-1 div.sk-parallel-item {display: flex;flex-direction: column;z-index: 1;position: relative;background-color: white;}#sk-container-id-1 div.sk-parallel-item:first-child::after {align-self: flex-end;width: 50%;}#sk-container-id-1 div.sk-parallel-item:last-child::after {align-self: flex-start;width: 50%;}#sk-container-id-1 div.sk-parallel-item:only-child::after {width: 0;}#sk-container-id-1 div.sk-dashed-wrapped {border: 1px dashed gray;margin: 0 0.4em 0.5em 0.4em;box-sizing: border-box;padding-bottom: 0.4em;background-color: white;}#sk-container-id-1 div.sk-label label {font-family: monospace;font-weight: bold;display: inline-block;line-height: 1.2em;}#sk-container-id-1 div.sk-label-container {text-align: center;}#sk-container-id-1 div.sk-container {/* jupyter's `normalize.less` sets `[hidden] { display: none; }` but bootstrap.min.css set `[hidden] { display: none !important; }` so we also need the `!important` here to be able to override the default hidden behavior on the sphinx rendered scikit-learn.org. See: https://github.com/scikit-learn/scikit-learn/issues/21755 */display: inline-block !important;position: relative;}#sk-container-id-1 div.sk-text-repr-fallback {display: none;}</style><div id=\"sk-container-id-1\" class=\"sk-top-container\"><div class=\"sk-text-repr-fallback\"><pre>RandomForestClassifier()</pre><b>In a Jupyter environment, please rerun this cell to show the HTML representation or trust the notebook. <br />On GitHub, the HTML representation is unable to render, please try loading this page with nbviewer.org.</b></div><div class=\"sk-container\" hidden><div class=\"sk-item\"><div class=\"sk-estimator sk-toggleable\"><input class=\"sk-toggleable__control sk-hidden--visually\" id=\"sk-estimator-id-1\" type=\"checkbox\" checked><label for=\"sk-estimator-id-1\" class=\"sk-toggleable__label sk-toggleable__label-arrow\">RandomForestClassifier</label><div class=\"sk-toggleable__content\"><pre>RandomForestClassifier()</pre></div></div></div></div></div>"
            ]
          },
          "metadata": {},
          "execution_count": 14
        }
      ]
    },
    {
      "cell_type": "code",
      "source": [
        "model.score(valid_x, valid_y)"
      ],
      "metadata": {
        "id": "CNfq6TIRvNee",
        "colab": {
          "base_uri": "https://localhost:8080/"
        },
        "outputId": "3a1c7751-88c1-4bd6-c27f-e04c1b202687"
      },
      "execution_count": 15,
      "outputs": [
        {
          "output_type": "execute_result",
          "data": {
            "text/plain": [
              "0.9652173913043478"
            ]
          },
          "metadata": {},
          "execution_count": 15
        }
      ]
    }
  ]
}