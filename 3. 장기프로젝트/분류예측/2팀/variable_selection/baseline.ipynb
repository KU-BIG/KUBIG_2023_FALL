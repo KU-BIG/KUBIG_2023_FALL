{
  "cells": [
    {
      "cell_type": "markdown",
      "metadata": {
        "id": "DZIahe2fvMRZ"
      },
      "source": [
        "# 베이스라인 모델 설정"
      ]
    },
    {
      "cell_type": "code",
      "execution_count": null,
      "metadata": {},
      "outputs": [],
      "source": [
        "import pandas as pd"
      ]
    },
    {
      "cell_type": "code",
      "execution_count": null,
      "metadata": {
        "id": "0yFkbMY4kg-5"
      },
      "outputs": [],
      "source": [
        "!pip install pycaret\n",
        "!pip install --upgrade scipy pycaret"
      ]
    },
    {
      "cell_type": "code",
      "execution_count": null,
      "metadata": {},
      "outputs": [],
      "source": [
        "df_robust = pd.read_csv('/content/drive/MyDrive/Colab Notebooks/KUBIG/23-2 KDIS 장기 프로젝트 분반/df_robust')\n",
        "\n",
        "# Features와 Target 분리\n",
        "X = df_robust.drop(columns=['Country Code', 'Year', 'Y'])\n",
        "y = df_robust['Y']"
      ]
    },
    {
      "cell_type": "code",
      "execution_count": null,
      "metadata": {
        "id": "jGAgx9KpkqRD"
      },
      "outputs": [],
      "source": [
        "import pycaret\n",
        "from pycaret.regression import *\n",
        "exp_clf = setup(data=X, target=y, session_id=329, fold=5)\n",
        "\n",
        "best_model = compare_models()"
      ]
    },
    {
      "cell_type": "markdown",
      "metadata": {},
      "source": [
        "- 성능 지표가 좋으면서도 너무 복잡하지 않은 간단한 모델이 베이스라인으로 적합함\n",
        "- Extra Trees Regressor는 성능은 가장 좋지만 좀더 간단한 모델 선호\n",
        "- 베이스라인 모델은 Random Forest Regressor와 Linear Regression으로 하기로 함"
      ]
    },
    {
      "cell_type": "markdown",
      "metadata": {},
      "source": [
        "# Random Forest"
      ]
    },
    {
      "cell_type": "code",
      "execution_count": null,
      "metadata": {},
      "outputs": [],
      "source": [
        "from sklearn.ensemble import RandomForestRegressor\n",
        "from sklearn.model_selection import train_test_split\n",
        "from sklearn.metrics import mean_absolute_error, r2_score, mean_squared_error"
      ]
    },
    {
      "cell_type": "code",
      "execution_count": null,
      "metadata": {
        "id": "lG2hEcJJFg06"
      },
      "outputs": [],
      "source": [
        "def evaluate_RFmodel(columns):\n",
        "    features = df_robust[columns]\n",
        "    target = df_robust['Y']\n",
        "\n",
        "    X_train, X_test, y_train, y_test = train_test_split(features, target, test_size=0.2, random_state=42)\n",
        "\n",
        "    model = RandomForestRegressor(random_state=42)\n",
        "    model.fit(X_train, y_train)\n",
        "\n",
        "    y_pred = model.predict(X_test)\n",
        "\n",
        "    print(f'<Random Forest Regressor 학습 성능>\\n')\n",
        "    print('MAE : {:.6f}'.format(mean_absolute_error(y_test, y_pred)))\n",
        "    print('MSE : {:.6f}'.format(mean_squared_error(y_test, y_pred)))\n",
        "    print('R2 : {:.6f}'.format(r2_score(y_test, y_pred)))\n",
        "    print('\\n')"
      ]
    },
    {
      "cell_type": "markdown",
      "metadata": {},
      "source": [
        "# Linear Regression"
      ]
    },
    {
      "cell_type": "code",
      "execution_count": null,
      "metadata": {
        "id": "usLRo5F2hFfB"
      },
      "outputs": [],
      "source": [
        "from sklearn.linear_model import LinearRegression\n",
        "\n",
        "def evaluate_LRmodel(columns):\n",
        "    features = df_robust[columns]\n",
        "    target = df_robust['Y']\n",
        "\n",
        "    X_train, X_test, y_train, y_test = train_test_split(features, target, test_size=0.2, random_state=42)\n",
        "\n",
        "    model = LinearRegression()\n",
        "    model.fit(X_train, y_train)\n",
        "\n",
        "    y_pred = model.predict(X_test)\n",
        "\n",
        "    print(f'<Linear Regression 학습 성능>\\n')\n",
        "    print('MAE : {:.6f}'.format(mean_absolute_error(y_test, y_pred)))\n",
        "    print('MSE : {:.6f}'.format(mean_squared_error(y_test, y_pred)))\n",
        "    print('R2 : {:.6f}'.format(r2_score(y_test, y_pred)))"
      ]
    },
    {
      "cell_type": "code",
      "execution_count": null,
      "metadata": {
        "colab": {
          "base_uri": "https://localhost:8080/"
        },
        "id": "2jPjGlDdKQnt",
        "outputId": "691aef01-c2cf-44c8-d9c3-095c14b2c5aa"
      },
      "outputs": [
        {
          "name": "stdout",
          "output_type": "stream",
          "text": [
            "<Random Forest Regressor 학습 성능>\n",
            "\n",
            "MAE : 763.281939\n",
            "MSE : 2321460.159535\n",
            "R2 : 0.967494\n",
            "\n",
            "\n",
            "<Linear Regression 학습 성능>\n",
            "\n",
            "MAE : 2291.022046\n",
            "MSE : 9451672.761715\n",
            "R2 : 0.867655\n"
          ]
        }
      ],
      "source": [
        "#원본 데이터 성능 확인(51개 features로 학습)\n",
        "\n",
        "features = df_robust.drop(columns=['Country Code', 'Year', 'Y']).columns\n",
        "evaluate_RFmodel(features)\n",
        "evaluate_LRmodel(features)"
      ]
    }
  ],
  "metadata": {
    "colab": {
      "provenance": [],
      "toc_visible": true
    },
    "kernelspec": {
      "display_name": "Python 3",
      "name": "python3"
    },
    "language_info": {
      "name": "python"
    }
  },
  "nbformat": 4,
  "nbformat_minor": 0
}
