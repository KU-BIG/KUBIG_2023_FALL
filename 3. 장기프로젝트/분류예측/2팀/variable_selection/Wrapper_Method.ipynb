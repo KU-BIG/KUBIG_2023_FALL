{
  "cells": [
    {
      "cell_type": "markdown",
      "metadata": {
        "id": "LhkNCmSEOY9A"
      },
      "source": [
        "# Wrapper Method(R 이용)"
      ]
    },
    {
      "cell_type": "code",
      "execution_count": null,
      "metadata": {},
      "outputs": [],
      "source": [
        "import pandas as pd\n",
        "\n",
        "df_robust = pd.read_csv('/content/drive/MyDrive/Colab Notebooks/KUBIG/23-2 KDIS 장기 프로젝트 분반/df_robust')\n",
        "\n",
        "# Features와 Target 분리\n",
        "X = df_robust.drop(columns=['Country Code', 'Year', 'Y'])\n",
        "y = df_robust['Y']"
      ]
    },
    {
      "cell_type": "code",
      "execution_count": null,
      "metadata": {},
      "outputs": [],
      "source": [
        "from sklearn.ensemble import RandomForestRegressor\n",
        "from sklearn.model_selection import train_test_split\n",
        "from sklearn.metrics import mean_absolute_error, r2_score, mean_squared_error\n",
        "from sklearn.linear_model import LinearRegression\n",
        "\n",
        "def evaluate_RFmodel(columns):\n",
        "    features = df_robust[columns]\n",
        "    target = df_robust['Y']\n",
        "\n",
        "    X_train, X_test, y_train, y_test = train_test_split(features, target, test_size=0.2, random_state=42)\n",
        "\n",
        "    model = RandomForestRegressor(random_state=42)\n",
        "    model.fit(X_train, y_train)\n",
        "\n",
        "    y_pred = model.predict(X_test)\n",
        "\n",
        "    print(f'<Random Forest Regressor 학습 성능>\\n')\n",
        "    print('MAE : {:.6f}'.format(mean_absolute_error(y_test, y_pred)))\n",
        "    print('MSE : {:.6f}'.format(mean_squared_error(y_test, y_pred)))\n",
        "    print('R2 : {:.6f}'.format(r2_score(y_test, y_pred)))\n",
        "    print('\\n')\n",
        "\n",
        "def evaluate_LRmodel(columns):\n",
        "    features = df_robust[columns]\n",
        "    target = df_robust['Y']\n",
        "\n",
        "    X_train, X_test, y_train, y_test = train_test_split(features, target, test_size=0.2, random_state=42)\n",
        "\n",
        "    model = LinearRegression()\n",
        "    model.fit(X_train, y_train)\n",
        "\n",
        "    y_pred = model.predict(X_test)\n",
        "\n",
        "    print(f'<Linear Regression 학습 성능>\\n')\n",
        "    print('MAE : {:.6f}'.format(mean_absolute_error(y_test, y_pred)))\n",
        "    print('MSE : {:.6f}'.format(mean_squared_error(y_test, y_pred)))\n",
        "    print('R2 : {:.6f}'.format(r2_score(y_test, y_pred)))"
      ]
    },
    {
      "cell_type": "markdown",
      "metadata": {
        "id": "ifkIWQuPOieX"
      },
      "source": [
        "## 1) 전진선택법(forward)\n",
        "\n",
        "*   중요하다고 생각되는 설명변수 하나부터 차례 변수를 추가해가면서 성능지표를 비교\n",
        "*   장점 : 이해하기 쉽고 변수의 개수가 많은 경우에도 사용 가능\n",
        "*   단점 : 변수값의 작은 변동에도 결과가 크게 달라져 안정성 부족\n"
      ]
    },
    {
      "cell_type": "markdown",
      "metadata": {},
      "source": [
        "- 통계적으로 유의하며 추정치의 절댓값이 높은 순으로 정렬한 결과\n",
        "    - Life expectancy at birth: -7120.788\n",
        "    - Survival to 65_female: -6562.008\n",
        "    - GNI per capita: 5767.538\n",
        "    - Life expectancy at 65: 5349.201\n",
        "    - Survival to 65_male: 5203.545\n",
        "    - Tax revenue (% of GDP): -4772.584\n",
        "    - Average wages: -3261.010\n",
        "    - Medium and high-tech exports (% manufactured exports): 3071.156\n",
        "    - R&D spending: 2778.634\n",
        "    - Population density: 2525.467\n",
        "    - Military spending: 2420.866\n",
        "    - Business extent of disclosure index (0-10): 2096.494\n",
        "    - General government spending: 1932.426\n",
        "    - Population ages 15-64 (% of total population): -1848.227\n",
        "    - Merchandise trade (% of GDP): -1389.305\n",
        "    - International tourism, receipts (% of total exports): 1363.922\n",
        "    - Urban population: -1340.061\n",
        "    - Labor force, female (% of total labor force): -1319.946\n",
        "    - Industry (including construction), value added (% of GDP): 1258.450\n",
        "    - Population growth (annual %): 1191.094\n",
        "    - women parliaments: 1113.704\n",
        "    - Maternal mortality ratio: 1032.937\n",
        "    - Renewable energy consumption: -788.243\n",
        "    - Unemployment rate: 769.830\n",
        "    - ICT service exports: -727.162\n",
        "    - Current account balance: 570.413\n",
        "    - Fuel exports (% of merchandise exports): -507.711\n",
        "    - Ores and metals exports (% of merchandise exports): 404.488\n",
        "    - Exchange rates: -61.355"
      ]
    },
    {
      "cell_type": "code",
      "execution_count": null,
      "metadata": {
        "colab": {
          "base_uri": "https://localhost:8080/"
        },
        "id": "jPJ4YRLxX2wB",
        "outputId": "a8f9fdb7-90ea-4993-d428-370982c60746"
      },
      "outputs": [
        {
          "data": {
            "text/plain": [
              "29"
            ]
          },
          "execution_count": 86,
          "metadata": {},
          "output_type": "execute_result"
        }
      ],
      "source": [
        "forward = [\n",
        "    'Life expectancy at birth',\n",
        "    'Survival to 65_female',\n",
        "    'GNI per capita',\n",
        "    'Life expectancy at 65',\n",
        "    'Survival to 65_male',\n",
        "    'Tax revenue (% of GDP)',\n",
        "    'Average wages',\n",
        "    'Medium and high-tech exports (% manufactured exports)',\n",
        "    'R&D spending',\n",
        "    'Population density',\n",
        "    'Military spending',\n",
        "    'Business extent of disclosure index (0-10)',\n",
        "    'General government spending',\n",
        "    'Population ages 15-64 (% of total population)',\n",
        "    'Merchandise trade (% of GDP)',\n",
        "    'International tourism, receipts (% of total exports)',\n",
        "    'Urban population',\n",
        "    'Labor force, female (% of total labor force)',\n",
        "    'Industry (including construction), value added (% of GDP)',\n",
        "    'Population growth (annual %)',\n",
        "    'women parliaments',\n",
        "    'Maternal mortality ratio',\n",
        "    'Renewable energy consumption',\n",
        "    'Unemployment rate',\n",
        "    'ICT service exports',\n",
        "    'Current account balance',\n",
        "    'Fuel exports (% of merchandise exports)',\n",
        "    'Ores and metals exports (% of merchandise exports)',\n",
        "    'Exchange rates']\n",
        "len(forward)"
      ]
    },
    {
      "cell_type": "code",
      "execution_count": null,
      "metadata": {
        "colab": {
          "base_uri": "https://localhost:8080/"
        },
        "id": "OUiR1VLvOqMk",
        "outputId": "07320b01-f902-4eae-d016-2ae922bf26a5"
      },
      "outputs": [
        {
          "name": "stdout",
          "output_type": "stream",
          "text": [
            "<Random Forest Regressor 학습 성능>\n",
            "\n",
            "MAE : 762.142019\n",
            "MSE : 2112808.805497\n",
            "R2 : 0.970416\n",
            "\n",
            "\n",
            "<Linear Regression 학습 성능>\n",
            "\n",
            "MAE : 2195.553194\n",
            "MSE : 8820390.462697\n",
            "R2 : 0.876494\n"
          ]
        }
      ],
      "source": [
        "evaluate_RFmodel(forward)\n",
        "evaluate_LRmodel(forward)"
      ]
    },
    {
      "cell_type": "code",
      "execution_count": null,
      "metadata": {
        "id": "zFWYaIN1d4uu"
      },
      "outputs": [],
      "source": [
        "forward_top20 = [\n",
        "    \"Life expectancy at birth\",\n",
        "    \"Survival to 65_female\",\n",
        "    \"GNI per capita\",\n",
        "    \"Life expectancy at 65\",\n",
        "    \"Survival to 65_male\",\n",
        "    \"Tax revenue (% of GDP)\",\n",
        "    \"Average wages\",\n",
        "    \"Medium and high-tech exports (% manufactured exports)\",\n",
        "    \"R&D spending\",\n",
        "    \"Population density\",\n",
        "    \"Military spending\",\n",
        "    \"Business extent of disclosure index (0-10)\",\n",
        "    \"General government spending\",\n",
        "    \"Population ages 15-64 (% of total population)\",\n",
        "    \"Merchandise trade (% of GDP)\",\n",
        "    \"International tourism, receipts (% of total exports)\",\n",
        "    \"Urban population\",\n",
        "    \"Labor force, female (% of total labor force)\",\n",
        "    \"Industry (including construction), value added (% of GDP)\",\n",
        "    \"Population growth (annual %)\"]"
      ]
    },
    {
      "cell_type": "markdown",
      "metadata": {
        "id": "oLn82OQ6Ol9w"
      },
      "source": [
        "## 2) 후진소거법(backward)\n",
        "\n",
        "*   가장 적은 영향을 주는 변수부터 하나씩 제거해가면서 성능지표를 비교\n",
        "*   장점 : 전체 변수들의 정보를 이용할 수 있음\n",
        "*   단점 : 변수의 개수가 많으면 사용하기 어려움\n",
        "\n"
      ]
    },
    {
      "cell_type": "markdown",
      "metadata": {},
      "source": [
        "- Trade: -11790.498\n",
        "- Exports of goods and services (% of GDP): 9855.689\n",
        "- Life expectancy at birth: -6193.919\n",
        "- Survival to 65_female: -6080.499\n",
        "- Life expectancy at 65: 5071.972\n",
        "- Tax revenue (% of GDP): -4561.893\n",
        "- Survival to 65_male: 4411.818\n",
        "- Medium and high-tech exports (% manufactured exports): 3322.561\n",
        "- R&D spending: 3313.767\n",
        "- Employment rate: -3291.365\n",
        "- Average wages: -3150.394\n",
        "- GDP per capita: 3072.874\n",
        "- Labor force: 3022.578\n",
        "- Old-age dependency ratio: 2948.707\n",
        "- GNI per capita: 2775.809\n",
        "- Population ages 0-14 (% of total population): 2624.665\n",
        "- Military spending: 2547.310\n",
        "- Population density: 2447.607\n",
        "- Business extent of disclosure index (0-10): 1731.282\n",
        "- General government spending: 1639.298\n",
        "- Urban population: -1617.637\n",
        "- Labor force, female (% of total labor force): -1534.132\n",
        "- International tourism, receipts (% of total exports): 1290.671\n",
        "- Population growth (annual %): 1179.593\n",
        "- Maternal mortality ratio: 1118.328\n",
        "- Renewable energy consumption: -837.601\n",
        "- High-technology exports (% of manufactured exports): -833.706\n",
        "- Gini index: -792.129\n",
        "- Education spending: 773.878\n",
        "- ICT service exports: -729.681\n",
        "- Fuel exports (% of merchandise exports): -331.467\n",
        "- Ores and metals exports (% of merchandise exports): 327.365\n",
        "- Exchange rates: -56.077"
      ]
    },
    {
      "cell_type": "code",
      "execution_count": null,
      "metadata": {
        "colab": {
          "base_uri": "https://localhost:8080/"
        },
        "id": "pM7c34x5R5LE",
        "outputId": "d240ae87-5482-4cdb-9297-53e38397959f"
      },
      "outputs": [
        {
          "data": {
            "text/plain": [
              "33"
            ]
          },
          "execution_count": 88,
          "metadata": {},
          "output_type": "execute_result"
        }
      ],
      "source": [
        "backward = [\n",
        "    \"Trade\",\n",
        "    \"Exports of goods and services (% of GDP)\",\n",
        "    \"Life expectancy at birth\",\n",
        "    \"Survival to 65_female\",\n",
        "    \"Life expectancy at 65\",\n",
        "    \"Tax revenue (% of GDP)\",\n",
        "    \"Survival to 65_male\",\n",
        "    \"Medium and high-tech exports (% manufactured exports)\",\n",
        "    \"R&D spending\",\n",
        "    \"Employment rate\",\n",
        "    \"Average wages\",\n",
        "    \"GDP per capita\",\n",
        "    \"Labor force\",\n",
        "    \"Old-age dependency ratio\",\n",
        "    \"GNI per capita\",\n",
        "    \"Population ages 0-14 (% of total population)\",\n",
        "    \"Military spending\",\n",
        "    \"Population density\",\n",
        "    \"Business extent of disclosure index (0-10)\",\n",
        "    \"General government spending\",\n",
        "    \"Urban population\",\n",
        "    \"Labor force, female (% of total labor force)\",\n",
        "    \"International tourism, receipts (% of total exports)\",\n",
        "    \"Population growth (annual %)\",\n",
        "    \"Maternal mortality ratio\",\n",
        "    \"Renewable energy consumption\",\n",
        "    \"High-technology exports (% of manufactured exports)\",\n",
        "    \"Gini index\",\n",
        "    \"Education spending\",\n",
        "    \"ICT service exports\",\n",
        "    \"Fuel exports (% of merchandise exports)\",\n",
        "    \"Ores and metals exports (% of merchandise exports)\",\n",
        "    \"Exchange rates\"]\n",
        "len(backward)"
      ]
    },
    {
      "cell_type": "code",
      "execution_count": null,
      "metadata": {
        "colab": {
          "base_uri": "https://localhost:8080/"
        },
        "id": "i3aP6A9JRz63",
        "outputId": "6f4cbc7e-2c1a-44ee-cfa8-19d8e25cfcc1"
      },
      "outputs": [
        {
          "name": "stdout",
          "output_type": "stream",
          "text": [
            "<Random Forest Regressor 학습 성능>\n",
            "\n",
            "MAE : 792.282074\n",
            "MSE : 2478570.439437\n",
            "R2 : 0.965294\n",
            "\n",
            "\n",
            "<Linear Regression 학습 성능>\n",
            "\n",
            "MAE : 2181.988450\n",
            "MSE : 9070987.804571\n",
            "R2 : 0.872985\n"
          ]
        }
      ],
      "source": [
        "evaluate_RFmodel(backward)\n",
        "evaluate_LRmodel(backward)"
      ]
    },
    {
      "cell_type": "code",
      "execution_count": null,
      "metadata": {
        "id": "zNtdd3MNeYgx"
      },
      "outputs": [],
      "source": [
        "backward_top20 = [\n",
        "    \"Trade\",\n",
        "    \"Exports of goods and services (% of GDP)\",\n",
        "    \"Life expectancy at birth\",\n",
        "    \"Survival to 65_female\",\n",
        "    \"Life expectancy at 65\",\n",
        "    \"Tax revenue (% of GDP)\",\n",
        "    \"Survival to 65_male\",\n",
        "    \"Medium and high-tech exports (% manufactured exports)\",\n",
        "    \"R&D spending\",\n",
        "    \"Employment rate\",\n",
        "    \"Average wages\",\n",
        "    \"GDP per capita\",\n",
        "    \"Labor force\",\n",
        "    \"Old-age dependency ratio\",\n",
        "    \"GNI per capita\",\n",
        "    \"Population ages 0-14 (% of total population)\",\n",
        "    \"Military spending\",\n",
        "    \"Population density\",\n",
        "    \"Business extent of disclosure index (0-10)\",\n",
        "    \"General government spending\"]"
      ]
    },
    {
      "cell_type": "markdown",
      "metadata": {
        "id": "N7OZ17KrOn0K"
      },
      "source": [
        "## 3) 단계선택법(stepwise)\n",
        "\n",
        "*   전진선택법에 의해 변수를 추가해가지만, 중요하지 않은 변수가 포함될 수 있기에, 각 단계에서 변수 중요도를 확인하면서 성능지표를 비교 -> 기존 변수 중요도가 악화되면 해당 변수 제거\n",
        "\n"
      ]
    },
    {
      "cell_type": "markdown",
      "metadata": {},
      "source": [
        "- Life expectancy at birth: -6580.103\n",
        "- Survival to 65_female: -6572.746\n",
        "- GNI per capita: 5896.515\n",
        "- Life expectancy at 65: 5341.505\n",
        "- Survival to 65_male: 5054.514\n",
        "- Tax revenue (% of GDP): -4784.247\n",
        "- Average wages: -3570.896\n",
        "- Medium and high-tech exports (% manufactured exports): 3422.856\n",
        "- R&D spending: 3107.909\n",
        "- Population density: 2609.874\n",
        "- Military spending: 2436.077\n",
        "- General government spending: 2022.596\n",
        "- Business extent of disclosure index (0-10): 1937.677\n",
        "- Population ages 15-64 (% of total population): -1790.117\n",
        "- International tourism, receipts (% of total exports): 1483.375\n",
        "- Labor force, female (% of total labor force): -1462.024\n",
        "- Industry (including construction), value added (% of GDP): 1320.024\n",
        "- Merchandise trade (% of GDP): -1270.251\n",
        "- Urban population: -1243.462\n",
        "- Population growth (annual %): 1158.809\n",
        "- women parliaments: 1147.974\n",
        "- Maternal mortality ratio: 997.609\n",
        "- Renewable energy consumption: -937.431\n",
        "- ICT service exports: -738.448\n",
        "- High-technology exports (% of manufactured exports): -731.565\n",
        "- Unemployment rate: 674.430\n",
        "- Current account balance: 632.301\n",
        "- Fuel exports (% of merchandise exports): -460.165\n",
        "- Education spending: 452.145\n",
        "- Ores and metals exports (% of merchandise exports): 419.912\n",
        "- Exchange rates: -56.952"
      ]
    },
    {
      "cell_type": "code",
      "execution_count": null,
      "metadata": {
        "colab": {
          "base_uri": "https://localhost:8080/"
        },
        "id": "SKZ-IT-adnce",
        "outputId": "9d308077-d4ad-48b7-be64-7c53133471eb"
      },
      "outputs": [
        {
          "data": {
            "text/plain": [
              "31"
            ]
          },
          "execution_count": 90,
          "metadata": {},
          "output_type": "execute_result"
        }
      ],
      "source": [
        "stepwise = [\n",
        "    \"Life expectancy at birth\",\n",
        "    \"Survival to 65_female\",\n",
        "    \"GNI per capita\",\n",
        "    \"Life expectancy at 65\",\n",
        "    \"Survival to 65_male\",\n",
        "    \"Tax revenue (% of GDP)\",\n",
        "    \"Average wages\",\n",
        "    \"Medium and high-tech exports (% manufactured exports)\",\n",
        "    \"R&D spending\",\n",
        "    \"Population density\",\n",
        "    \"Military spending\",\n",
        "    \"General government spending\",\n",
        "    \"Business extent of disclosure index (0-10)\",\n",
        "    \"Population ages 15-64 (% of total population)\",\n",
        "    \"International tourism, receipts (% of total exports)\",\n",
        "    \"Labor force, female (% of total labor force)\",\n",
        "    \"Industry (including construction), value added (% of GDP)\",\n",
        "    \"Merchandise trade (% of GDP)\",\n",
        "    \"Urban population\",\n",
        "    \"Population growth (annual %)\",\n",
        "    \"women parliaments\",\n",
        "    \"Maternal mortality ratio\",\n",
        "    \"Renewable energy consumption\",\n",
        "    \"ICT service exports\",\n",
        "    \"High-technology exports (% of manufactured exports)\",\n",
        "    \"Unemployment rate\",\n",
        "    \"Current account balance\",\n",
        "    \"Fuel exports (% of merchandise exports)\",\n",
        "    \"Education spending\",\n",
        "    \"Ores and metals exports (% of merchandise exports)\",\n",
        "    \"Exchange rates\"]\n",
        "len(stepwise)"
      ]
    },
    {
      "cell_type": "code",
      "execution_count": null,
      "metadata": {
        "colab": {
          "base_uri": "https://localhost:8080/"
        },
        "id": "tD8bsNIMYGZO",
        "outputId": "782f56ba-e3a9-4733-94e2-34a0cdf1ee44"
      },
      "outputs": [
        {
          "name": "stdout",
          "output_type": "stream",
          "text": [
            "<Random Forest Regressor 학습 성능>\n",
            "\n",
            "MAE : 770.656516\n",
            "MSE : 2286303.861017\n",
            "R2 : 0.967986\n",
            "\n",
            "\n",
            "<Linear Regression 학습 성능>\n",
            "\n",
            "MAE : 2200.421333\n",
            "MSE : 8909244.739049\n",
            "R2 : 0.875250\n"
          ]
        }
      ],
      "source": [
        "evaluate_RFmodel(stepwise)\n",
        "evaluate_LRmodel(stepwise)"
      ]
    },
    {
      "cell_type": "code",
      "execution_count": null,
      "metadata": {},
      "outputs": [],
      "source": [
        "#상위 20개만 저장\n",
        "stepwise_top20 = [\n",
        "    \"Life expectancy at birth\",\n",
        "    \"Survival to 65_female\",\n",
        "    \"GNI per capita\",\n",
        "    \"Life expectancy at 65\",\n",
        "    \"Survival to 65_male\",\n",
        "    \"Tax revenue (% of GDP)\",\n",
        "    \"Average wages\",\n",
        "    \"Medium and high-tech exports (% manufactured exports)\",\n",
        "    \"R&D spending\",\n",
        "    \"Population density\",\n",
        "    \"Military spending\",\n",
        "    \"General government spending\",\n",
        "    \"Business extent of disclosure index (0-10)\",\n",
        "    \"Population ages 15-64 (% of total population)\",\n",
        "    \"International tourism, receipts (% of total exports)\",\n",
        "    \"Labor force, female (% of total labor force)\",\n",
        "    \"Industry (including construction), value added (% of GDP)\",\n",
        "    \"Merchandise trade (% of GDP)\",\n",
        "    \"Urban population\",\n",
        "    \"Population growth (annual %)\"]"
      ]
    }
  ],
  "metadata": {
    "colab": {
      "provenance": [],
      "toc_visible": true
    },
    "kernelspec": {
      "display_name": "Python 3",
      "name": "python3"
    },
    "language_info": {
      "name": "python"
    }
  },
  "nbformat": 4,
  "nbformat_minor": 0
}
